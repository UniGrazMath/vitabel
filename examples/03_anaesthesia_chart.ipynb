{
 "cells": [
  {
   "cell_type": "markdown",
   "id": "f23a1216-71c4-4158-a77f-ad9bbcb4f30d",
   "metadata": {},
   "source": [
    "# Use Case 3: User interface to research intra-anaesthesisa hypotension\n",
    "<span style = \"font-size:22px\">This notebook illustrates the usage of the vitabel package to visualize, annotate and process time-series data from the medical field. Please find the detailed, searchable documentation here: \n",
    "[![Documentation Status](https://readthedocs.org/projects/vitabel/badge/?version=latest)](https://vitabel.readthedocs.io/en/latest/?badge=latest)<br>\n",
    "In this case we analyze non-waveform data from an anesthesia chart and add further labels to this data. This notebook in particular demonstrates how `vitabel` can be used outside of resuscitation science, in this case to study **intra-operative hypotension**. In especially the plotting will be wrapped into an overarching user interface to **validate** the data. </span>"
   ]
  },
  {
   "cell_type": "code",
   "execution_count": 16,
   "id": "5341fa6c-1083-4daa-99a8-fadb30d89b46",
   "metadata": {},
   "outputs": [],
   "source": [
    "from vitabel import Vitals, Label\n",
    "import numpy as np\n",
    "import pandas as pd"
   ]
  },
  {
   "cell_type": "markdown",
   "id": "34e111f4-d070-42e9-bbd2-ba9107b13c75",
   "metadata": {},
   "source": [
    "## 1) Load data"
   ]
  },
  {
   "cell_type": "markdown",
   "id": "c822de38-334a-4033-88d8-7c1d1358a718",
   "metadata": {},
   "source": [
    "<span style = \"font-size:18px\">A vitabel object is initialized and data which was saved with vitabel before is loaded again."
   ]
  },
  {
   "cell_type": "code",
   "execution_count": 2,
   "id": "60dafd70-9638-4087-ae11-34df34ea4c03",
   "metadata": {},
   "outputs": [],
   "source": [
    "case = Vitals()\n",
    "case.load_data(\"data/usecase_3.json\")"
   ]
  },
  {
   "cell_type": "markdown",
   "id": "0428ba95-401c-4cf0-b3d1-9ea21b08034b",
   "metadata": {},
   "source": [
    "<span style = \"font-size:18px\">We get an overview over all channels and labels in the signal"
   ]
  },
  {
   "cell_type": "code",
   "execution_count": 3,
   "id": "61cd9d88-37a5-4a70-9da5-9e08fc89883c",
   "metadata": {},
   "outputs": [
    {
     "data": {
      "text/html": [
       "<div>\n",
       "<style scoped>\n",
       "    .dataframe tbody tr th:only-of-type {\n",
       "        vertical-align: middle;\n",
       "    }\n",
       "\n",
       "    .dataframe tbody tr th {\n",
       "        vertical-align: top;\n",
       "    }\n",
       "\n",
       "    .dataframe thead th {\n",
       "        text-align: right;\n",
       "    }\n",
       "</style>\n",
       "<table border=\"1\" class=\"dataframe\">\n",
       "  <thead>\n",
       "    <tr style=\"text-align: right;\">\n",
       "      <th></th>\n",
       "      <th>Name</th>\n",
       "      <th>Length</th>\n",
       "      <th>First Entry</th>\n",
       "      <th>Last Entry</th>\n",
       "      <th>Offset</th>\n",
       "    </tr>\n",
       "  </thead>\n",
       "  <tbody>\n",
       "    <tr>\n",
       "      <th>0</th>\n",
       "      <td>MAP</td>\n",
       "      <td>300</td>\n",
       "      <td>2024-12-24 12:24:24</td>\n",
       "      <td>2024-12-24 14:53:54</td>\n",
       "      <td>0 days 00:00:00</td>\n",
       "    </tr>\n",
       "    <tr>\n",
       "      <th>1</th>\n",
       "      <td>DIA</td>\n",
       "      <td>300</td>\n",
       "      <td>2024-12-24 12:24:24</td>\n",
       "      <td>2024-12-24 14:53:54</td>\n",
       "      <td>0 days 00:00:00</td>\n",
       "    </tr>\n",
       "    <tr>\n",
       "      <th>2</th>\n",
       "      <td>SYS</td>\n",
       "      <td>300</td>\n",
       "      <td>2024-12-24 12:24:24</td>\n",
       "      <td>2024-12-24 14:53:54</td>\n",
       "      <td>0 days 00:00:00</td>\n",
       "    </tr>\n",
       "  </tbody>\n",
       "</table>\n",
       "</div>"
      ],
      "text/plain": [
       "  Name Length          First Entry           Last Entry           Offset\n",
       "0  MAP    300  2024-12-24 12:24:24  2024-12-24 14:53:54  0 days 00:00:00\n",
       "1  DIA    300  2024-12-24 12:24:24  2024-12-24 14:53:54  0 days 00:00:00\n",
       "2  SYS    300  2024-12-24 12:24:24  2024-12-24 14:53:54  0 days 00:00:00"
      ]
     },
     "metadata": {},
     "output_type": "display_data"
    },
    {
     "data": {
      "text/html": [
       "<div>\n",
       "<style scoped>\n",
       "    .dataframe tbody tr th:only-of-type {\n",
       "        vertical-align: middle;\n",
       "    }\n",
       "\n",
       "    .dataframe tbody tr th {\n",
       "        vertical-align: top;\n",
       "    }\n",
       "\n",
       "    .dataframe thead th {\n",
       "        text-align: right;\n",
       "    }\n",
       "</style>\n",
       "<table border=\"1\" class=\"dataframe\">\n",
       "  <thead>\n",
       "    <tr style=\"text-align: right;\">\n",
       "      <th></th>\n",
       "      <th>Name</th>\n",
       "      <th>Length</th>\n",
       "      <th>First Entry</th>\n",
       "      <th>Last Entry</th>\n",
       "      <th>Offset</th>\n",
       "    </tr>\n",
       "  </thead>\n",
       "  <tbody>\n",
       "    <tr>\n",
       "      <th>0</th>\n",
       "      <td>Remifentanil</td>\n",
       "      <td>1</td>\n",
       "      <td>2024-12-24 12:42:01.507886041</td>\n",
       "      <td>2024-12-24 14:47:10.070170558</td>\n",
       "      <td>0 days 00:00:00</td>\n",
       "    </tr>\n",
       "    <tr>\n",
       "      <th>1</th>\n",
       "      <td>Sevofluran</td>\n",
       "      <td>1</td>\n",
       "      <td>2024-12-24 12:37:32.863636363</td>\n",
       "      <td>2024-12-24 14:48:20.136363636</td>\n",
       "      <td>0 days 00:00:00</td>\n",
       "    </tr>\n",
       "    <tr>\n",
       "      <th>2</th>\n",
       "      <td>Event</td>\n",
       "      <td>8</td>\n",
       "      <td>2024-12-24 12:17:00</td>\n",
       "      <td>2024-12-24 14:55:11</td>\n",
       "      <td>0 days 00:00:00</td>\n",
       "    </tr>\n",
       "    <tr>\n",
       "      <th>3</th>\n",
       "      <td>Medication</td>\n",
       "      <td>14</td>\n",
       "      <td>2024-12-24 12:31:32.409090909</td>\n",
       "      <td>2024-12-24 14:36:55.743100799</td>\n",
       "      <td>0 days 00:00:00</td>\n",
       "    </tr>\n",
       "  </tbody>\n",
       "</table>\n",
       "</div>"
      ],
      "text/plain": [
       "           Name Length                    First Entry  \\\n",
       "0  Remifentanil      1  2024-12-24 12:42:01.507886041   \n",
       "1    Sevofluran      1  2024-12-24 12:37:32.863636363   \n",
       "2         Event      8            2024-12-24 12:17:00   \n",
       "3    Medication     14  2024-12-24 12:31:32.409090909   \n",
       "\n",
       "                      Last Entry           Offset  \n",
       "0  2024-12-24 14:47:10.070170558  0 days 00:00:00  \n",
       "1  2024-12-24 14:48:20.136363636  0 days 00:00:00  \n",
       "2            2024-12-24 14:55:11  0 days 00:00:00  \n",
       "3  2024-12-24 14:36:55.743100799  0 days 00:00:00  "
      ]
     },
     "metadata": {},
     "output_type": "display_data"
    }
   ],
   "source": [
    "case.info()"
   ]
  },
  {
   "cell_type": "markdown",
   "id": "c9048ba5-276a-4b83-a3fe-dd9c8f42a50f",
   "metadata": {},
   "source": [
    "## 2) Process Data\n",
    "<span style = \"font-size:18px\">In this project, we're approaching things a little differently. Our primary focus is on the mean arterial pressure (MAP) during anaesthesia. To analyze this accurately, we need to validate both the MAP recordings\n",
    " and the defined anaesthesia interval.</span>"
   ]
  },
  {
   "cell_type": "markdown",
   "id": "21fe2eab-022c-49bd-94f8-697055f92fd7",
   "metadata": {},
   "source": [
    "<span style = \"font-size:18px\">Conceptually `vitabel` devides time-series data into `channels` and `labels`:<br>\n",
    " - <span style = \"font-size:18px\">**channels** contain raw data recorded by a device\n",
    " - <span style = \"font-size:18px\">**labels** provide additional information—either annotated manually or \n",
    "derived from channel data<br>\n",
    "\n",
    "<span style = \"font-size:18px\">This distinction can become blurred in cases where the recording device itself generates derived values. For example, if a monitor derives end-tidal CO₂ from a capnography waveform, one could argue whether these values should be considered part of a channel or stored as a label.<br>\n",
    "However in the present use case, to actually remove and add MAP values in an interactive plot we have to **convert** the MAP recordings from the `channel` into a `label`.\n",
    "</span>\n"
   ]
  },
  {
   "cell_type": "code",
   "execution_count": 4,
   "id": "f2e84e61-5473-4851-8942-9bcc5507168e",
   "metadata": {},
   "outputs": [],
   "source": [
    "map_channel = case.get_channel(name='MAP')\n",
    "map_label = Label.from_dict(map_channel.to_dict())\n",
    "map_label.plotstyle.update({\"lw\":0.8,\"alpha\":0.8, \"c\":\"#393b41\", \"ls\":\"-\", \"ms\":10})\n",
    "\n",
    "case.get_channel(\"MAP\").attach_label(map_label) "
   ]
  },
  {
   "cell_type": "markdown",
   "id": "bd897d1e-873e-4912-9603-4b73d1a2d01b",
   "metadata": {},
   "source": [
    "<span style = \"font-size:18px\">For analysis we are intereseted in the timespan between _Induction_ and _Anaesthesia End_.<br>\n",
    "We therefore try to extract the timepoints of interest from the cahnnel _Events_ and generate a **new Label** called _Analsysis_ with them. As we want to manipulate both timepoints independently from each other, we deliberately do not use an normal `Label` and not an `IntervalLabel`. The timespan we are going to analyse will be defined by the extremes of the `time_index` of the label _Analysis_."
   ]
  },
  {
   "cell_type": "code",
   "execution_count": 5,
   "id": "ecced614-1b0a-43fe-916a-d8a05fa0eac9",
   "metadata": {},
   "outputs": [],
   "source": [
    "t_index, data, text_data  = case.get_label(\"Event\").get_data()\n",
    "mask = np.isin(text_data, [\"Induction\", \"Anaesthesia End\"])\n",
    "analysis_label=Label(\n",
    "    name=\"Analysis\",\n",
    "    time_index=t_index[mask], \n",
    "    data=None, \n",
    "    text_data=None, \n",
    "    plotstyle={\"color\" : \"crimson\", \"lw\" : 3, \"alpha\" : 0.5}, \n",
    "    plot_type=\"vline\",\n",
    "    vline_text_source=\"disabled\"\n",
    ")\n",
    "case.add_global_label(analysis_label)"
   ]
  },
  {
   "cell_type": "markdown",
   "id": "76a8c5c2-1da1-4dba-90e7-fa5bcf810acd",
   "metadata": {},
   "source": [
    "## 3) Interactively plot and label data"
   ]
  },
  {
   "cell_type": "markdown",
   "id": "9d5d252c-70dd-469f-8362-e59cf7f445cf",
   "metadata": {},
   "source": [
    "<span style = \"font-size:18px\">As in the previous use cases we initialize our plot with `plot_interactive`. We than adapt the figure more extensively by editing the `figure` and its `axes` directly."
   ]
  },
  {
   "cell_type": "code",
   "execution_count": 55,
   "id": "7d22036e-bf72-4c9e-9dcf-d73f683fcaae",
   "metadata": {},
   "outputs": [
    {
     "data": {
      "application/vnd.jupyter.widget-view+json": {
       "model_id": "5c5ea54454ec434d8b48732d4f50a417",
       "version_major": 2,
       "version_minor": 0
      },
      "text/plain": [
       "AppLayout(children=(Tab(children=(VBox(children=(HTML(value='\\n                    <p>\\n                    Ri…"
      ]
     },
     "metadata": {},
     "output_type": "display_data"
    }
   ],
   "source": [
    "t_analysis, *_ = case.get_label(\"Event\").get_data()\n",
    "padding_time = 2\n",
    "plot_start=t_analysis.min() - pd.to_timedelta(padding_time, \"m\") # adds 2 minutes before first event\n",
    "plot_stop=t_analysis.max() + pd.to_timedelta(padding_time, \"m\") # adds 2 minutes after the last event\n",
    "\n",
    "plot = case.plot_interactive(\n",
    "    channels = [[0, 1, 2], [], []],\n",
    "    labels = [[\"Event\", \"Analysis\", \"MAP\"], [\"Remifentanil\", \"Medication\"], [\"Sevofluran\"]],\n",
    "    time_unit= \"m\",\n",
    "    start = plot_start,\n",
    "    stop = plot_stop,\n",
    "    subplots_kwargs = {\"figsize\": (16.5, 8), \"gridspec_kw\": {\"height_ratios\": [5, 1, 0.5]}},\n",
    ")\n",
    "\n",
    "fig = plot.center.figure\n",
    "fig.suptitle(\"\") #remove title\n",
    "fig.subplots_adjust(hspace = 0)\n",
    "axes = fig.get_axes()\n",
    "axes[0].set_ylabel(\"Blood pressure (mmHg)\")\n",
    "axes[0].set_ylim(0)\n",
    "axes[0].xaxis.set_ticks_position('top')\n",
    "axes[1].set_xticks([])\n",
    "for ax in axes[1:]:\n",
    "    ax.set_yticks([])\n",
    "    ax.set_xlabel(\"\")\n",
    "    ax.grid(False)\n",
    "\n",
    "display(plot)"
   ]
  },
  {
   "cell_type": "markdown",
   "id": "16757d25-84e4-4f5f-b2b1-77d66d65767d",
   "metadata": {},
   "source": [
    "<span style = \"font-size:18px\">To highlight episode of hypotension (i.e. MAP<65mmHg) we define a function to **highlight the area** in orange. </span><br>\n",
    "_(will be visualized in the plot above)_"
   ]
  },
  {
   "cell_type": "code",
   "execution_count": 56,
   "id": "dd9c2ead-0517-4c86-9a1e-c2f250fc0988",
   "metadata": {},
   "outputs": [],
   "source": [
    "def show_auc(case, ax, cutoff : int=65):\n",
    "    MAP=case.get_label('MAP')\n",
    "    if MAP.is_time_absolute():\n",
    "        reference_time = MAP.time_start - plot_start\n",
    "        time_index = MAP.time_index + reference_time\n",
    "    time_index /= pd.to_timedelta(1, unit=\"m\")\n",
    "    y2=np.array([cutoff]*len(MAP))\n",
    "    ax.fill_between(time_index,MAP.data,y2,where=(MAP.data <= cutoff),interpolate=True, facecolor=\"#ff7f45\", alpha=.8)\n",
    "\n",
    "show_auc(case,axes[0], cutoff = 65)"
   ]
  },
  {
   "cell_type": "code",
   "execution_count": 59,
   "id": "09503f4c-5d9c-47d6-8fe6-407a2271fdd7",
   "metadata": {},
   "outputs": [
    {
     "ename": "AttributeError",
     "evalue": "'str' object has no attribute 'name'",
     "output_type": "error",
     "traceback": [
      "\u001b[31m---------------------------------------------------------------------------\u001b[39m",
      "\u001b[31mAttributeError\u001b[39m                            Traceback (most recent call last)",
      "\u001b[36mCell\u001b[39m\u001b[36m \u001b[39m\u001b[32mIn[59]\u001b[39m\u001b[32m, line 2\u001b[39m\n\u001b[32m      1\u001b[39m MAP=case.get_label(\u001b[33m'\u001b[39m\u001b[33mMAP\u001b[39m\u001b[33m'\u001b[39m)\n\u001b[32m----> \u001b[39m\u001b[32m2\u001b[39m \u001b[38;5;28;43;01mcase\u001b[39;49;00m\u001b[43m.\u001b[49m\u001b[43marea_under_threshold\u001b[49m\u001b[43m(\u001b[49m\u001b[43mMAP\u001b[49m\u001b[43m,\u001b[49m\u001b[43m \u001b[49m\u001b[43mstart_time\u001b[49m\u001b[43m=\u001b[49m\u001b[43mplot_start\u001b[49m\u001b[43m,\u001b[49m\u001b[43m \u001b[49m\u001b[43mstop_time\u001b[49m\u001b[43m=\u001b[49m\u001b[43mplot_stop\u001b[49m\u001b[43m,\u001b[49m\u001b[43m \u001b[49m\u001b[43mthreshold\u001b[49m\u001b[43m=\u001b[49m\u001b[32;43m65\u001b[39;49m\u001b[43m)\u001b[49m\n",
      "\u001b[36mFile \u001b[39m\u001b[32m~/vitabel/github/src/vitabel/vitals.py:1870\u001b[39m, in \u001b[36mVitals.area_under_threshold\u001b[39m\u001b[34m(self, name, start_time, stop_time, threshold)\u001b[39m\n\u001b[32m   1867\u001b[39m \u001b[38;5;28;01mif\u001b[39;00m stop_time \u001b[38;5;129;01mis\u001b[39;00m \u001b[38;5;28;01mNone\u001b[39;00m:\n\u001b[32m   1868\u001b[39m     stop_time = \u001b[38;5;28mself\u001b[39m.rec_stop()\n\u001b[32m-> \u001b[39m\u001b[32m1870\u001b[39m index, data = \u001b[38;5;28;43mself\u001b[39;49m\u001b[43m.\u001b[49m\u001b[43mget_channel_or_label\u001b[49m\u001b[43m(\u001b[49m\u001b[43mname\u001b[49m\u001b[43m)\u001b[49m.get_data()\n\u001b[32m   1871\u001b[39m timeseries = pd.Series(data, index=index)\n\u001b[32m   1873\u001b[39m \u001b[38;5;28;01mreturn\u001b[39;00m helpers.area_under_threshold(\n\u001b[32m   1874\u001b[39m     timeseries=timeseries,\n\u001b[32m   1875\u001b[39m     start_time=start_time,\n\u001b[32m   1876\u001b[39m     stop_time=stop_time,\n\u001b[32m   1877\u001b[39m     threshold=threshold\n\u001b[32m   1878\u001b[39m )\n",
      "\u001b[36mFile \u001b[39m\u001b[32m~/vitabel/github/src/vitabel/vitals.py:883\u001b[39m, in \u001b[36mVitals.get_channel_or_label\u001b[39m\u001b[34m(self, name, label_type, **kwargs)\u001b[39m\n\u001b[32m    880\u001b[39m \u001b[38;5;28;01mdef\u001b[39;00m\u001b[38;5;250m \u001b[39m\u001b[34mget_channel_or_label\u001b[39m(\n\u001b[32m    881\u001b[39m     \u001b[38;5;28mself\u001b[39m, name: \u001b[38;5;28mstr\u001b[39m | \u001b[38;5;28;01mNone\u001b[39;00m = \u001b[38;5;28;01mNone\u001b[39;00m, label_type: \u001b[38;5;28mtype\u001b[39m[Label] | \u001b[38;5;28;01mNone\u001b[39;00m = \u001b[38;5;28;01mNone\u001b[39;00m, **kwargs\n\u001b[32m    882\u001b[39m ) -> Channel | Label:\n\u001b[32m--> \u001b[39m\u001b[32m883\u001b[39m     channels_or_labels = \u001b[38;5;28;43mself\u001b[39;49m\u001b[43m.\u001b[49m\u001b[43mget_channels_or_labels\u001b[49m\u001b[43m(\u001b[49m\u001b[43mname\u001b[49m\u001b[43m,\u001b[49m\u001b[43m \u001b[49m\u001b[43mlabel_type\u001b[49m\u001b[43m=\u001b[49m\u001b[43mlabel_type\u001b[49m\u001b[43m,\u001b[49m\u001b[43m \u001b[49m\u001b[43m*\u001b[49m\u001b[43m*\u001b[49m\u001b[43mkwargs\u001b[49m\u001b[43m)\u001b[49m\n\u001b[32m    884\u001b[39m     \u001b[38;5;28;01mif\u001b[39;00m \u001b[38;5;28mlen\u001b[39m(channels_or_labels) != \u001b[32m1\u001b[39m:\n\u001b[32m    885\u001b[39m         \u001b[38;5;28;01mraise\u001b[39;00m \u001b[38;5;167;01mValueError\u001b[39;00m(\n\u001b[32m    886\u001b[39m             \u001b[33m\"\u001b[39m\u001b[33mChannel or Label specification was ambiguous, no unique channel or Label \u001b[39m\u001b[33m\"\u001b[39m\n\u001b[32m    887\u001b[39m             \u001b[33mf\u001b[39m\u001b[33m\"\u001b[39m\u001b[33mwas identified. Query returned: \u001b[39m\u001b[38;5;132;01m{\u001b[39;00mchannels_or_labels\u001b[38;5;132;01m}\u001b[39;00m\u001b[33m\"\u001b[39m\n\u001b[32m    888\u001b[39m         )\n",
      "\u001b[36mFile \u001b[39m\u001b[32m~/vitabel/github/src/vitabel/vitals.py:876\u001b[39m, in \u001b[36mVitals.get_channels_or_labels\u001b[39m\u001b[34m(self, name, label_type, **kwargs)\u001b[39m\n\u001b[32m    873\u001b[39m \u001b[38;5;28;01mdef\u001b[39;00m\u001b[38;5;250m \u001b[39m\u001b[34mget_channels_or_labels\u001b[39m(\n\u001b[32m    874\u001b[39m     \u001b[38;5;28mself\u001b[39m, name: \u001b[38;5;28mstr\u001b[39m | \u001b[38;5;28;01mNone\u001b[39;00m = \u001b[38;5;28;01mNone\u001b[39;00m, label_type: \u001b[38;5;28mtype\u001b[39m[Label] | \u001b[38;5;28;01mNone\u001b[39;00m = \u001b[38;5;28;01mNone\u001b[39;00m,  **kwargs\n\u001b[32m    875\u001b[39m ) -> \u001b[38;5;28mlist\u001b[39m[Channel | Label]:\n\u001b[32m--> \u001b[39m\u001b[32m876\u001b[39m     \u001b[38;5;28;01mreturn\u001b[39;00m \u001b[38;5;28;43mself\u001b[39;49m\u001b[43m.\u001b[49m\u001b[43mdata\u001b[49m\u001b[43m.\u001b[49m\u001b[43mget_channels\u001b[49m\u001b[43m(\u001b[49m\u001b[43mname\u001b[49m\u001b[43m,\u001b[49m\u001b[43m \u001b[49m\u001b[43m*\u001b[49m\u001b[43m*\u001b[49m\u001b[43mkwargs\u001b[49m\u001b[43m)\u001b[49m + \u001b[38;5;28mself\u001b[39m.get_labels(\n\u001b[32m    877\u001b[39m         name, label_type=label_type, **kwargs\n\u001b[32m    878\u001b[39m     )\n",
      "\u001b[36mFile \u001b[39m\u001b[32m~/vitabel/github/src/vitabel/timeseries.py:2294\u001b[39m, in \u001b[36mTimeDataCollection.get_channels\u001b[39m\u001b[34m(self, name, **kwargs)\u001b[39m\n\u001b[32m   2291\u001b[39m \u001b[38;5;28;01mif\u001b[39;00m name \u001b[38;5;129;01mis\u001b[39;00m \u001b[38;5;129;01mnot\u001b[39;00m \u001b[38;5;28;01mNone\u001b[39;00m:\n\u001b[32m   2292\u001b[39m     kwargs[\u001b[33m\"\u001b[39m\u001b[33mname\u001b[39m\u001b[33m\"\u001b[39m] = name\n\u001b[32m   2293\u001b[39m channel_list = [\n\u001b[32m-> \u001b[39m\u001b[32m2294\u001b[39m     channel \u001b[38;5;28;01mfor\u001b[39;00m channel \u001b[38;5;129;01min\u001b[39;00m \u001b[38;5;28mself\u001b[39m.channels \u001b[38;5;28;01mif\u001b[39;00m \u001b[43mmatch_object\u001b[49m\u001b[43m(\u001b[49m\u001b[43mchannel\u001b[49m\u001b[43m,\u001b[49m\u001b[43m \u001b[49m\u001b[43m*\u001b[49m\u001b[43m*\u001b[49m\u001b[43mkwargs\u001b[49m\u001b[43m)\u001b[49m\n\u001b[32m   2295\u001b[39m ]\n\u001b[32m   2297\u001b[39m \u001b[38;5;28;01mif\u001b[39;00m \u001b[38;5;28mlen\u001b[39m(channel_list) == \u001b[32m0\u001b[39m:\n\u001b[32m   2298\u001b[39m     logger.warning(\u001b[33mf\u001b[39m\u001b[33m\"\u001b[39m\u001b[33mChannel specification \u001b[39m\u001b[38;5;132;01m{\u001b[39;00mkwargs\u001b[38;5;132;01m}\u001b[39;00m\u001b[33m returned no channels\u001b[39m\u001b[33m\"\u001b[39m)\n",
      "\u001b[36mFile \u001b[39m\u001b[32m~/vitabel/github/src/vitabel/utils/helpers.py:112\u001b[39m, in \u001b[36mmatch_object\u001b[39m\u001b[34m(obj, **kwargs)\u001b[39m\n\u001b[32m    110\u001b[39m         \u001b[38;5;28;01mif\u001b[39;00m \u001b[38;5;129;01mnot\u001b[39;00m \u001b[38;5;28mhasattr\u001b[39m(obj, key):\n\u001b[32m    111\u001b[39m             \u001b[38;5;28;01mreturn\u001b[39;00m \u001b[38;5;28;01mFalse\u001b[39;00m\n\u001b[32m--> \u001b[39m\u001b[32m112\u001b[39m         \u001b[38;5;28;01mif\u001b[39;00m \u001b[38;5;28;43mgetattr\u001b[39;49m\u001b[43m(\u001b[49m\u001b[43mobj\u001b[49m\u001b[43m,\u001b[49m\u001b[43m \u001b[49m\u001b[43mkey\u001b[49m\u001b[43m)\u001b[49m\u001b[43m \u001b[49m\u001b[43m!=\u001b[49m\u001b[43m \u001b[49m\u001b[43mvalue\u001b[49m:\n\u001b[32m    113\u001b[39m             \u001b[38;5;28;01mreturn\u001b[39;00m \u001b[38;5;28;01mFalse\u001b[39;00m\n\u001b[32m    114\u001b[39m \u001b[38;5;28;01mreturn\u001b[39;00m \u001b[38;5;28;01mTrue\u001b[39;00m\n",
      "\u001b[36mFile \u001b[39m\u001b[32m~/vitabel/github/src/vitabel/timeseries.py:968\u001b[39m, in \u001b[36mLabel.__eq__\u001b[39m\u001b[34m(self, other)\u001b[39m\n\u001b[32m    961\u001b[39m \u001b[38;5;28;01mdef\u001b[39;00m\u001b[38;5;250m \u001b[39m\u001b[34m__eq__\u001b[39m(\u001b[38;5;28mself\u001b[39m, other: Label) -> \u001b[38;5;28mbool\u001b[39m:\n\u001b[32m    962\u001b[39m \u001b[38;5;250m    \u001b[39m\u001b[33;03m\"\"\"Check whether two labels are equal.\u001b[39;00m\n\u001b[32m    963\u001b[39m \n\u001b[32m    964\u001b[39m \u001b[33;03m    Returns ``True`` if the name, time index, and data of the labels\u001b[39;00m\n\u001b[32m    965\u001b[39m \u001b[33;03m    are equal, and ``False`` otherwise.\u001b[39;00m\n\u001b[32m    966\u001b[39m \u001b[33;03m    \"\"\"\u001b[39;00m\n\u001b[32m    967\u001b[39m     \u001b[38;5;28;01mreturn\u001b[39;00m (\n\u001b[32m--> \u001b[39m\u001b[32m968\u001b[39m         \u001b[38;5;28mself\u001b[39m.name == \u001b[43mother\u001b[49m\u001b[43m.\u001b[49m\u001b[43mname\u001b[49m\n\u001b[32m    969\u001b[39m         \u001b[38;5;129;01mand\u001b[39;00m np.array_equal(\u001b[38;5;28mself\u001b[39m.time_index, other.time_index)\n\u001b[32m    970\u001b[39m         \u001b[38;5;129;01mand\u001b[39;00m np.array_equal(\u001b[38;5;28mself\u001b[39m.data, other.data)\n\u001b[32m    971\u001b[39m     )\n",
      "\u001b[31mAttributeError\u001b[39m: 'str' object has no attribute 'name'"
     ]
    }
   ],
   "source": [
    "MAP=case.get_label('MAP')\n",
    "case.area_under_threshold(MAP, start_time=plot_start, stop_time=plot_stop, threshold=65)"
   ]
  },
  {
   "cell_type": "markdown",
   "id": "cab07b55-92f2-4c84-b963-e57c25c41246",
   "metadata": {},
   "source": [
    "<span style = \"font-size:18px\">The data is saved again in a json file."
   ]
  },
  {
   "cell_type": "code",
   "execution_count": null,
   "id": "5314a786-8014-41c1-8f48-3261c5eb49b3",
   "metadata": {},
   "outputs": [],
   "source": [
    "def on_draw(event, case=case):\n",
    "    global axes, endpoints, widget_hbox\n",
    "\n",
    "\n",
    "\n",
    "\n",
    "    # check wether legend was redrawn\n",
    "    if axes[0].get_legend():\n",
    "        for ax in axes[:-1]:  \n",
    "            ax.grid(False) #Remove grid\n",
    "            ax.set_xlabel(\"\") # Remove the x-axis label      \n",
    "            leg = ax.get_legend()\n",
    "            if leg:\n",
    "                leg.remove()  # Remove legend\n",
    "                \n",
    "        axes[0].grid(axis='y', visible=True)  # optional: keep y-axis grid\n",
    "\n",
    "        for ax in axes[1:-2]:\n",
    "            ax.set_yticks([])  \n",
    "        \n",
    "        # Align labels to the left so they line up with the right axis line\n",
    "        for label in axes[2].get_yticklabels():\n",
    "            label.set_horizontalalignment('right')\n",
    "\n",
    "    # check if AUC is marked\n",
    "    has_fill_between = any(isinstance(col, PolyCollection) for col in axes[0].collections)\n",
    "    if not has_fill_between:\n",
    "        show_auc(case, axes[0], cutoff=65)\n",
    "\n",
    "    # calculate edpoints\n",
    "    endpoints = calculate_endpoints(case)\n",
    "\n",
    "    # Display Results\n",
    "    widget_hbox[\"twa\"].value = endpoints[\"twa\"]\n",
    "    widget_hbox[\"auc\"].value = endpoints[\"auc\"]\n",
    "    widget_hbox[\"hypotens_dur\"].value = endpoints[\"hypotens_dur\"]\n",
    "    widget_hbox[\"anae_dur\"].value = endpoints[\"anae_dur\"]\n",
    "    widget_hbox[\"noa_equivalent\"].value = endpoints[\"noa_equivalent\"]\n",
    "    widget_hbox[\"min_map\"].value = endpoints[\"min_map\"]\n",
    "    widget_hbox[\"max_period_length_no_map\"].value = endpoints[\"max_period_length_no_map\"]\n",
    "    widget_hbox[\"mean_period_length\"].value = endpoints[\"mean_period_length\"]\n"
   ]
  },
  {
   "cell_type": "code",
   "execution_count": 7,
   "id": "30cd05b8-ab6a-428f-ab3d-5b31e626c1dd",
   "metadata": {},
   "outputs": [
    {
     "ename": "NameError",
     "evalue": "name 'Path' is not defined",
     "output_type": "error",
     "traceback": [
      "\u001b[31m---------------------------------------------------------------------------\u001b[39m",
      "\u001b[31mNameError\u001b[39m                                 Traceback (most recent call last)",
      "\u001b[36mCell\u001b[39m\u001b[36m \u001b[39m\u001b[32mIn[7]\u001b[39m\u001b[32m, line 1\u001b[39m\n\u001b[32m----> \u001b[39m\u001b[32m1\u001b[39m \u001b[38;5;28;01mdef\u001b[39;00m\u001b[38;5;250m \u001b[39m\u001b[34m_wrap_in_widget\u001b[39m(case: Vitals, plot, data_out_path: \u001b[43mPath\u001b[49m, tobe_reviewed: List[\u001b[38;5;28mstr\u001b[39m], case_index: \u001b[38;5;28mint\u001b[39m, container :widgets.VBox, case_holder: Dict[\u001b[38;5;28mstr\u001b[39m, Vitals]):\n\u001b[32m      2\u001b[39m     \u001b[38;5;28;01mglobal\u001b[39;00m endpoints, widget_hbox, message_output\n\u001b[32m      4\u001b[39m     \u001b[38;5;28;01mdef\u001b[39;00m\u001b[38;5;250m \u001b[39m\u001b[34msave_callback\u001b[39m(b):\n",
      "\u001b[31mNameError\u001b[39m: name 'Path' is not defined"
     ]
    }
   ],
   "source": [
    "def _wrap_in_widget(case: Vitals, plot, data_out_path: Path, tobe_reviewed: List[str], case_index: int, container :widgets.VBox, case_holder: Dict[str, Vitals]):\n",
    "    global endpoints, widget_hbox, message_output\n",
    "\n",
    "    def save_callback(b):\n",
    "        message_output.clear_output()\n",
    "    \n",
    "        with message_output:\n",
    "            if pd.isna(endpoints[\"anae_dur\"]):\n",
    "                display(widgets.HTML(\n",
    "                    \"<span style='color:red; font-weight:bold; font-size:16px;'>\"\n",
    "                    \"⚠️ Analysis duration is unclear. Please set Labels accordingly.</span><br><br>\"\n",
    "                ))\n",
    "                return None\n",
    "            \n",
    "            # Normal behavior\n",
    "            case.metadata.setdefault(\"spa_ga\", {})\n",
    "            case.metadata[\"spa_ga\"][\"remarks\"]={\"investigator\":\"ME\",\n",
    "                                                       \"comment\":remark_input.value, \n",
    "                                                       \"date\":str(datetime.now())\n",
    "                                                      }\n",
    "                                        \n",
    "            if flag_check.value:\n",
    "                case.metadata[\"spa_ga\"][\"flagged\"]={\"revision\":True}\n",
    "            else:\n",
    "                case.metadata[\"spa_ga\"][\"flagged\"]={\"revision\":False}\n",
    "            \n",
    "            case.metadata[\"spa_ga\"][\"anaesthesia_type_by_algorithm\"] = text_case_type.value\n",
    "            case.metadata[\"spa_ga\"][\"endpoints\"]=endpoints\n",
    "            \n",
    "            case.save_data(data_out_path/ f\"{case.metadata[\"case_id\"]}.json\")\n",
    "            display(widgets.HTML(\n",
    "                \"<span style='color:green; font-weight:bold; font-size:16px;'>\"\n",
    "                \"✅ Saved succesfully.</span><br><br>\"\n",
    "            ))\n",
    "    \n",
    "            # Remove case from todo list\n",
    "            next_plot()\n"
   ]
  },
  {
   "cell_type": "code",
   "execution_count": null,
   "id": "1dca27ff-3b7c-4a20-8ec3-e40564621a58",
   "metadata": {},
   "outputs": [],
   "source": [
    "case.save_data(\"data/usecase_3_final.json\")"
   ]
  },
  {
   "cell_type": "code",
   "execution_count": null,
   "id": "40fc2a9a-abe3-4126-923c-bd86bd76604d",
   "metadata": {},
   "outputs": [],
   "source": [
    "def plot_spaga(case: Vitals, data_out_path : Path, tobe_reviewed: List[str], case_index: int, container :widgets.VBox, case_holder: Dict[str, Vitals]):   \n",
    "    global axes, endpoints, widget_hbox\n",
    "\n",
    "    padding_time=4 # minutes before and after plot \n",
    "\n",
    "    # to keep adaptions alive over redraws\n",
    "    def on_draw(event, case=case):\n",
    "        global axes, endpoints, widget_hbox\n",
    "\n",
    "        def show_auc(case, ax, cutoff : int=65):\n",
    "            MAP=case.get_label('MAP')\n",
    "            if MAP.is_time_absolute():\n",
    "                reference_time = MAP.time_start - plot_start\n",
    "                time_index = MAP.time_index + reference_time\n",
    "            time_index /= pd.to_timedelta(1, unit=\"h\")\n",
    "            y2=np.array([cutoff]*len(MAP))\n",
    "            ax.fill_between(time_index,MAP.data,y2,where=(MAP.data <= cutoff),interpolate=True, facecolor=orange, alpha=.5)\n",
    "\n",
    "\n",
    "        # check wether legend was redrawn\n",
    "        if axes[0].get_legend():\n",
    "            for ax in axes[:-1]:  \n",
    "                ax.grid(False) #Remove grid\n",
    "                ax.set_xlabel(\"\") # Remove the x-axis label      \n",
    "                leg = ax.get_legend()\n",
    "                if leg:\n",
    "                    leg.remove()  # Remove legend\n",
    "                    \n",
    "            axes[0].grid(axis='y', visible=True)  # optional: keep y-axis grid\n",
    "\n",
    "            for ax in axes[1:-2]:\n",
    "                ax.set_yticks([])  \n",
    "            \n",
    "            # Align labels to the left so they line up with the right axis line\n",
    "            for label in axes[2].get_yticklabels():\n",
    "                label.set_horizontalalignment('right')\n",
    "\n",
    "        # check if AUC is marked\n",
    "        has_fill_between = any(isinstance(col, PolyCollection) for col in axes[0].collections)\n",
    "        if not has_fill_between:\n",
    "            show_auc(case, axes[0], cutoff=65)\n",
    "\n",
    "        # calculate edpoints\n",
    "        endpoints = calculate_endpoints(case)\n",
    "\n",
    "        # Display Results\n",
    "        widget_hbox[\"twa\"].value = endpoints[\"twa\"]\n",
    "        widget_hbox[\"auc\"].value = endpoints[\"auc\"]\n",
    "        widget_hbox[\"hypotens_dur\"].value = endpoints[\"hypotens_dur\"]\n",
    "        widget_hbox[\"anae_dur\"].value = endpoints[\"anae_dur\"]\n",
    "        widget_hbox[\"noa_equivalent\"].value = endpoints[\"noa_equivalent\"]\n",
    "        widget_hbox[\"min_map\"].value = endpoints[\"min_map\"]\n",
    "        widget_hbox[\"max_period_length_no_map\"].value = endpoints[\"max_period_length_no_map\"]\n",
    "        widget_hbox[\"mean_period_length\"].value = endpoints[\"mean_period_length\"]\n",
    "\n",
    "    t_analysis= case.get_label(\"Analysis\").get_data()[0]\n",
    "    plot_start=t_analysis.min() - pd.to_timedelta(padding_time, \"m\")\n",
    "    plot_stop=t_analysis.max() + pd.to_timedelta(padding_time, \"m\")\n",
    "\n",
    "    # Actual plotting\n",
    "    plot= case.plot_interactive(channels=[[\"sys\", \"dia\",\"map\"],\n",
    "                                          [],\n",
    "                                          []],\n",
    "                                labels=[['Anästhesie','Narkose','Chirurgie',\"MAP\",\"_dummy\",\"Analysis\",], \n",
    "                                        ['_localanaesthetics_bolus','_opioids_bolus', '_narcotics_bolus', '_relaxans_bolus', '_pressors_bolus', \"_dummy\", \"Analysis\"],\n",
    "                                        [\"_narcotics_cont\", \"_pressors_cont\",\"_opioids_cont\", \"_dummy\", \"Analysis\"]],     \n",
    "                                channel_overviews=[[\"map\"]],\n",
    "                                subplots_kwargs={\"figsize\": (10, 5), \"gridspec_kw\": {\"height_ratios\": [8, 3, 2,1]}},\n",
    "                                start=plot_start,\n",
    "                                stop=plot_stop,\n",
    "                                time_unit=\"h\")\n",
    "    fig = plot.center.figure\n",
    "    axes = fig.get_axes()\n",
    "\n",
    "    fig.canvas.mpl_connect('draw_event', lambda event: on_draw(event, case))\n",
    "    fig.subplots_adjust(hspace=0)\n",
    "    \n",
    "    # Adapt plot\n",
    "    axes[0].set_ylabel(\"Blood pressure (mmHg)\")\n",
    "    axes[0].xaxis.set_ticks_position('top')\n",
    "    ymin,ymax=axes[0].get_ylim()\n",
    "    axes[0].set_ylim(0,ymax)\n",
    "    axes[3].set_ylim(0,ymax)\n",
    "\n",
    "    text_labels = axes[0].findobj(lambda artist: isinstance(artist, Text) and hasattr(artist, \"_from_vitals_label\"))\n",
    "    for artist in text_labels:\n",
    "        artist.set_y(ymin + 0.1 * (ymax - ymin))\n",
    "\n",
    "    axes[1].set_yticks([])  # Remove the y-axis label\n",
    "    axes[1].set_ylim(0,1) # force to redraw subplot 1\n",
    "\n",
    "    for ax in axes[1:-1]:\n",
    "        ax.set_xticks([])  \n",
    "    \n",
    "    ymin,ymax=axes[2].get_ylim()\n",
    "    ylength = ymax - ymin\n",
    "    axes[2].set_ylim(ymin-ylength/4, ymax+ylength/4)\n",
    "    \n",
    "    # Move ticks and labels to the right side\n",
    "    axes[2].yaxis.tick_right()\n",
    "    axes[2].yaxis.set_label_position(\"right\")\n",
    "    # Move y-tick labels inside the plot\n",
    "    axes[2].tick_params(axis='y', direction='in', pad=-5)  # Adjust pad to move inside\n",
    "\n",
    "    return _wrap_in_widget(case=case, plot=plot, data_out_path=data_out_path, tobe_reviewed=tobe_reviewed, case_index=case_index, container=container, case_holder=case_holder)\n",
    "\n",
    "\n"
   ]
  },
  {
   "cell_type": "code",
   "execution_count": 9,
   "id": "1ed955e7-315c-4ba4-9e9f-7705c4d2ab4a",
   "metadata": {},
   "outputs": [
    {
     "data": {
      "text/plain": [
       "{'name': 'Medication',\n",
       " 'time_index': array([   0.        ,  112.27272727,  165.45454545,  922.10702808,\n",
       "        1429.55926596, 2255.19777191, 2888.82732299, 3288.38881479,\n",
       "        4276.32060403, 5451.68970636, 5800.50597437, 6053.77492914,\n",
       "        6560.31283865, 7682.87946444]),\n",
       " 'data': None,\n",
       " 'text_data': array(['Fentanyl', 'Propofol', 'Esmeron', 'Phenylephrin', 'Phenylephrin',\n",
       "        'Phenylephrin', 'Phenylephrin', 'Phenylephrin', 'Phenylephrin',\n",
       "        'Phenylephrin', 'Phenylephrin', 'Phenylephrin', 'Phenylephrin',\n",
       "        'Piritramid'], dtype=object),\n",
       " 'time_start': '2024-12-24 12:28:52.863636363',\n",
       " 'time_unit': 's',\n",
       " 'offset': 0.0,\n",
       " 'is_interval': False,\n",
       " 'plotstyle': {'linestyle': '--', 'marker': None, 'color': 'blue'},\n",
       " 'metadata': {},\n",
       " 'plot_type': 'combined',\n",
       " 'vline_text_source': 'text_data'}"
      ]
     },
     "execution_count": 9,
     "metadata": {},
     "output_type": "execute_result"
    }
   ],
   "source": [
    "case.get_label(\"Medication\").to_dict()"
   ]
  },
  {
   "cell_type": "code",
   "execution_count": null,
   "id": "d0e6bdf3-6122-467d-b0a3-93a597a10351",
   "metadata": {},
   "outputs": [],
   "source": []
  }
 ],
 "metadata": {
  "kernelspec": {
   "display_name": "Python 3.13 (spa-ga)",
   "language": "python",
   "name": "spa-ga"
  },
  "language_info": {
   "codemirror_mode": {
    "name": "ipython",
    "version": 3
   },
   "file_extension": ".py",
   "mimetype": "text/x-python",
   "name": "python",
   "nbconvert_exporter": "python",
   "pygments_lexer": "ipython3",
   "version": "3.13.3"
  }
 },
 "nbformat": 4,
 "nbformat_minor": 5
}
