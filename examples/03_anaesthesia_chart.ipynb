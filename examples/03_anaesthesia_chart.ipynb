{
 "cells": [
  {
   "cell_type": "markdown",
   "id": "f23a1216-71c4-4158-a77f-ad9bbcb4f30d",
   "metadata": {},
   "source": [
    "# Use Case 3: User interface to research intra-anaesthesisa hypotension\n",
    "<span style = \"font-size:22px\">This notebook illustrates the usage of the vitabel package to visualize, annotate and process time-series data from the medical field. Please find the detailed, searchable documentation here: \n",
    "[![Documentation Status](https://readthedocs.org/projects/vitabel/badge/?version=latest)](https://vitabel.readthedocs.io/en/latest/?badge=latest)<br>\n",
    "In this case we analyze non-waveform data from an anesthesia chart and add further labels to this data. This notebook in particular displays how `vitabel` can be used outside of resuscitation science and the plotting can be wrapped into overarching user interfaces. </span>"
   ]
  },
  {
   "cell_type": "code",
   "execution_count": 1,
   "id": "5341fa6c-1083-4daa-99a8-fadb30d89b46",
   "metadata": {},
   "outputs": [],
   "source": [
    "from vitabel import Vitals, Label"
   ]
  },
  {
   "cell_type": "markdown",
   "id": "34e111f4-d070-42e9-bbd2-ba9107b13c75",
   "metadata": {},
   "source": [
    "## 1) Load data"
   ]
  },
  {
   "cell_type": "markdown",
   "id": "c822de38-334a-4033-88d8-7c1d1358a718",
   "metadata": {},
   "source": [
    "<span style = \"font-size:18px\">A vitabel object is initialized and data which was saved with vitabel before is loaded again."
   ]
  },
  {
   "cell_type": "code",
   "execution_count": 2,
   "id": "60dafd70-9638-4087-ae11-34df34ea4c03",
   "metadata": {},
   "outputs": [
    {
     "ename": "TypeError",
     "evalue": "IntervalLabel.__init__() got an unexpected keyword argument 'vline_text_source'",
     "output_type": "error",
     "traceback": [
      "\u001b[31m---------------------------------------------------------------------------\u001b[39m",
      "\u001b[31mTypeError\u001b[39m                                 Traceback (most recent call last)",
      "\u001b[36mCell\u001b[39m\u001b[36m \u001b[39m\u001b[32mIn[2]\u001b[39m\u001b[32m, line 2\u001b[39m\n\u001b[32m      1\u001b[39m case = Vitals()\n\u001b[32m----> \u001b[39m\u001b[32m2\u001b[39m \u001b[38;5;28;43;01mcase\u001b[39;49;00m\u001b[43m.\u001b[49m\u001b[43mload_data\u001b[49m\u001b[43m(\u001b[49m\u001b[33;43m\"\u001b[39;49m\u001b[33;43mdata/usecase_3.json\u001b[39;49m\u001b[33;43m\"\u001b[39;49m\u001b[43m)\u001b[49m\n",
      "\u001b[36mFile \u001b[39m\u001b[32m~/vitabel/github/src/vitabel/vitals.py:804\u001b[39m, in \u001b[36mVitals.load_data\u001b[39m\u001b[34m(self, path, check_channel_hash)\u001b[39m\n\u001b[32m    802\u001b[39m     json_dict = json.load(fd)\n\u001b[32m    803\u001b[39m \u001b[38;5;28mself\u001b[39m.metadata = json_dict[\u001b[33m\"\u001b[39m\u001b[33mmetadata\u001b[39m\u001b[33m\"\u001b[39m]\n\u001b[32m--> \u001b[39m\u001b[32m804\u001b[39m \u001b[38;5;28mself\u001b[39m.data = \u001b[43mTimeDataCollection\u001b[49m\u001b[43m.\u001b[49m\u001b[43mfrom_dict\u001b[49m\u001b[43m(\u001b[49m\u001b[43mjson_dict\u001b[49m\u001b[43m[\u001b[49m\u001b[33;43m\"\u001b[39;49m\u001b[33;43mdata\u001b[39;49m\u001b[33;43m\"\u001b[39;49m\u001b[43m]\u001b[49m\u001b[43m)\u001b[49m\n\u001b[32m    805\u001b[39m saved_hash = json_dict[\u001b[33m\"\u001b[39m\u001b[33mhash\u001b[39m\u001b[33m\"\u001b[39m]\n\u001b[32m    806\u001b[39m channel_hash = \u001b[38;5;28mself\u001b[39m.data.channel_data_hash()\n",
      "\u001b[36mFile \u001b[39m\u001b[32m~/vitabel/github/src/vitabel/timeseries.py:2458\u001b[39m, in \u001b[36mTimeDataCollection.from_dict\u001b[39m\u001b[34m(cls, datadict)\u001b[39m\n\u001b[32m   2456\u001b[39m \u001b[38;5;28;01mfor\u001b[39;00m label_dict \u001b[38;5;129;01min\u001b[39;00m datadict[\u001b[33m\"\u001b[39m\u001b[33mlabels\u001b[39m\u001b[33m\"\u001b[39m]:\n\u001b[32m   2457\u001b[39m     \u001b[38;5;28;01mif\u001b[39;00m label_dict.get(\u001b[33m\"\u001b[39m\u001b[33mis_interval\u001b[39m\u001b[33m\"\u001b[39m):\n\u001b[32m-> \u001b[39m\u001b[32m2458\u001b[39m         label = \u001b[43mIntervalLabel\u001b[49m\u001b[43m.\u001b[49m\u001b[43mfrom_dict\u001b[49m\u001b[43m(\u001b[49m\u001b[43mlabel_dict\u001b[49m\u001b[43m)\u001b[49m\n\u001b[32m   2459\u001b[39m     \u001b[38;5;28;01melse\u001b[39;00m:\n\u001b[32m   2460\u001b[39m         label = Label.from_dict(label_dict)\n",
      "\u001b[36mFile \u001b[39m\u001b[32m~/vitabel/github/src/vitabel/timeseries.py:1258\u001b[39m, in \u001b[36mLabel.from_dict\u001b[39m\u001b[34m(cls, datadict)\u001b[39m\n\u001b[32m   1255\u001b[39m \u001b[38;5;28;01mexcept\u001b[39;00m (\u001b[38;5;167;01mTypeError\u001b[39;00m, \u001b[38;5;167;01mValueError\u001b[39;00m, \u001b[38;5;167;01mEOFError\u001b[39;00m):\n\u001b[32m   1256\u001b[39m     \u001b[38;5;28;01mpass\u001b[39;00m\n\u001b[32m-> \u001b[39m\u001b[32m1258\u001b[39m \u001b[38;5;28;01mreturn\u001b[39;00m \u001b[38;5;28;43mcls\u001b[39;49m\u001b[43m(\u001b[49m\n\u001b[32m   1259\u001b[39m \u001b[43m    \u001b[49m\u001b[43mname\u001b[49m\u001b[43m=\u001b[49m\u001b[43mdatadict\u001b[49m\u001b[43m.\u001b[49m\u001b[43mget\u001b[49m\u001b[43m(\u001b[49m\u001b[33;43m\"\u001b[39;49m\u001b[33;43mname\u001b[39;49m\u001b[33;43m\"\u001b[39;49m\u001b[43m)\u001b[49m\u001b[43m,\u001b[49m\n\u001b[32m   1260\u001b[39m \u001b[43m    \u001b[49m\u001b[43mtime_index\u001b[49m\u001b[43m=\u001b[49m\u001b[43mtime_index\u001b[49m\u001b[43m,\u001b[49m\n\u001b[32m   1261\u001b[39m \u001b[43m    \u001b[49m\u001b[43mdata\u001b[49m\u001b[43m=\u001b[49m\u001b[43mdata\u001b[49m\u001b[43m,\u001b[49m\n\u001b[32m   1262\u001b[39m \u001b[43m    \u001b[49m\u001b[43mtext_data\u001b[49m\u001b[43m=\u001b[49m\u001b[43mtext_data\u001b[49m\u001b[43m,\u001b[49m\n\u001b[32m   1263\u001b[39m \u001b[43m    \u001b[49m\u001b[43mtime_start\u001b[49m\u001b[43m=\u001b[49m\u001b[43mdatadict\u001b[49m\u001b[43m.\u001b[49m\u001b[43mget\u001b[49m\u001b[43m(\u001b[49m\u001b[33;43m\"\u001b[39;49m\u001b[33;43mtime_start\u001b[39;49m\u001b[33;43m\"\u001b[39;49m\u001b[43m)\u001b[49m\u001b[43m,\u001b[49m\n\u001b[32m   1264\u001b[39m \u001b[43m    \u001b[49m\u001b[43mtime_unit\u001b[49m\u001b[43m=\u001b[49m\u001b[43mdatadict\u001b[49m\u001b[43m.\u001b[49m\u001b[43mget\u001b[49m\u001b[43m(\u001b[49m\u001b[33;43m\"\u001b[39;49m\u001b[33;43mtime_unit\u001b[39;49m\u001b[33;43m\"\u001b[39;49m\u001b[43m)\u001b[49m\u001b[43m,\u001b[49m\n\u001b[32m   1265\u001b[39m \u001b[43m    \u001b[49m\u001b[43moffset\u001b[49m\u001b[43m=\u001b[49m\u001b[43mdatadict\u001b[49m\u001b[43m.\u001b[49m\u001b[43mget\u001b[49m\u001b[43m(\u001b[49m\u001b[33;43m\"\u001b[39;49m\u001b[33;43moffset\u001b[39;49m\u001b[33;43m\"\u001b[39;49m\u001b[43m)\u001b[49m\u001b[43m,\u001b[49m\n\u001b[32m   1266\u001b[39m \u001b[43m    \u001b[49m\u001b[43mplotstyle\u001b[49m\u001b[43m=\u001b[49m\u001b[43mdatadict\u001b[49m\u001b[43m.\u001b[49m\u001b[43mget\u001b[49m\u001b[43m(\u001b[49m\u001b[33;43m\"\u001b[39;49m\u001b[33;43mplotstyle\u001b[39;49m\u001b[33;43m\"\u001b[39;49m\u001b[43m)\u001b[49m\u001b[43m,\u001b[49m\n\u001b[32m   1267\u001b[39m \u001b[43m    \u001b[49m\u001b[43mmetadata\u001b[49m\u001b[43m=\u001b[49m\u001b[43mdatadict\u001b[49m\u001b[43m.\u001b[49m\u001b[43mget\u001b[49m\u001b[43m(\u001b[49m\u001b[33;43m\"\u001b[39;49m\u001b[33;43mmetadata\u001b[39;49m\u001b[33;43m\"\u001b[39;49m\u001b[43m)\u001b[49m\u001b[43m,\u001b[49m\n\u001b[32m   1268\u001b[39m \u001b[43m    \u001b[49m\u001b[43mplot_type\u001b[49m\u001b[43m=\u001b[49m\u001b[43mdatadict\u001b[49m\u001b[43m.\u001b[49m\u001b[43mget\u001b[49m\u001b[43m(\u001b[49m\u001b[33;43m\"\u001b[39;49m\u001b[33;43mplot_type\u001b[39;49m\u001b[33;43m\"\u001b[39;49m\u001b[43m)\u001b[49m\u001b[43m,\u001b[49m\n\u001b[32m   1269\u001b[39m \u001b[43m    \u001b[49m\u001b[43mvline_text_source\u001b[49m\u001b[43m=\u001b[49m\u001b[43mdatadict\u001b[49m\u001b[43m.\u001b[49m\u001b[43mget\u001b[49m\u001b[43m(\u001b[49m\u001b[33;43m\"\u001b[39;49m\u001b[33;43mvline_text_source\u001b[39;49m\u001b[33;43m\"\u001b[39;49m\u001b[43m)\u001b[49m\u001b[43m           \u001b[49m\n\u001b[32m   1270\u001b[39m \u001b[43m\u001b[49m\u001b[43m)\u001b[49m\n",
      "\u001b[31mTypeError\u001b[39m: IntervalLabel.__init__() got an unexpected keyword argument 'vline_text_source'"
     ]
    }
   ],
   "source": [
    "case = Vitals()\n",
    "case.load_data(\"data/usecase_3.json\")"
   ]
  },
  {
   "cell_type": "markdown",
   "id": "0428ba95-401c-4cf0-b3d1-9ea21b08034b",
   "metadata": {},
   "source": [
    "<span style = \"font-size:18px\">We get an overview over all channels and labels in the signal"
   ]
  },
  {
   "cell_type": "code",
   "execution_count": null,
   "id": "61cd9d88-37a5-4a70-9da5-9e08fc89883c",
   "metadata": {},
   "outputs": [],
   "source": [
    "case.info()"
   ]
  },
  {
   "cell_type": "markdown",
   "id": "76a8c5c2-1da1-4dba-90e7-fa5bcf810acd",
   "metadata": {},
   "source": [
    "## 3) Interactively plot and label data"
   ]
  },
  {
   "cell_type": "markdown",
   "id": "a2ae3b33-d327-4e14-8ffa-c74c965dc600",
   "metadata": {},
   "source": [
    "<span style = \"font-size:18px\">A new label for text is initialized and added to the vitabel object."
   ]
  },
  {
   "cell_type": "code",
   "execution_count": null,
   "id": "1d7d7ab9-e9c6-4ebe-bdfb-0ff8e23aff87",
   "metadata": {},
   "outputs": [],
   "source": [
    "AnesthesiaLabel = Label(\n",
    "    name = \"Anesthesia\", \n",
    "    time_index = [], \n",
    "    data = [], \n",
    "    plotstyle = {\"linestyle\": \"--\", \"marker\": None, \"color\": \"teal\"}\n",
    ")\n",
    "case.add_global_label(AnesthesiaLabel)"
   ]
  },
  {
   "cell_type": "markdown",
   "id": "9d5d252c-70dd-469f-8362-e59cf7f445cf",
   "metadata": {},
   "source": [
    "<span style = \"font-size:18px\">An interactive plot is initialized. Then the appearence of the figure is adapted, to better suit the use case. It is shown in the end."
   ]
  },
  {
   "cell_type": "code",
   "execution_count": null,
   "id": "7d22036e-bf72-4c9e-9dcf-d73f683fcaae",
   "metadata": {},
   "outputs": [],
   "source": [
    "plot = case.plot_interactive(\n",
    "    channels = [[0, 1, 2], [], []],\n",
    "    labels = [[\"Event\", \"Anesthesia\"], [\"Remifentanil\", \"Medication\"], [\"Sevofluran\"]],\n",
    "    subplots_kwargs = {\"figsize\": (21, 9), \"gridspec_kw\": {\"height_ratios\": [5, 1, 0.5]}},\n",
    ")\n",
    "fig = plot.center.figure\n",
    "ax = fig.get_axes()\n",
    "ax[0].set_ylabel(\"Blood pressure (mmHg)\")\n",
    "ax[1].grid(False)\n",
    "ax[2].grid(False)\n",
    "fig.subplots_adjust(hspace = 0.03)\n",
    "plot"
   ]
  },
  {
   "cell_type": "markdown",
   "id": "395694da-f331-410c-affe-2dc8f3e09ab9",
   "metadata": {},
   "source": [
    "## 4) Save data"
   ]
  },
  {
   "cell_type": "markdown",
   "id": "cab07b55-92f2-4c84-b963-e57c25c41246",
   "metadata": {},
   "source": [
    "<span style = \"font-size:18px\">The data is saved again in a json file."
   ]
  },
  {
   "cell_type": "code",
   "execution_count": null,
   "id": "1dca27ff-3b7c-4a20-8ec3-e40564621a58",
   "metadata": {},
   "outputs": [],
   "source": [
    "case.save_data(\"data/usecase_3_final.json\")"
   ]
  },
  {
   "cell_type": "code",
   "execution_count": null,
   "id": "40fc2a9a-abe3-4126-923c-bd86bd76604d",
   "metadata": {},
   "outputs": [],
   "source": [
    "def plot_spaga(case: Vitals, data_out_path : Path, tobe_reviewed: List[str], case_index: int, container :widgets.VBox, case_holder: Dict[str, Vitals]):   \n",
    "    global axes, endpoints, widget_hbox\n",
    "\n",
    "    padding_time=4 # minutes before and after plot \n",
    "\n",
    "    # to keep adaptions alive over redraws\n",
    "    def on_draw(event, case=case):\n",
    "        global axes, endpoints, widget_hbox\n",
    "\n",
    "        def show_auc(case, ax, cutoff : int=65):\n",
    "            MAP=case.get_label('MAP')\n",
    "            if MAP.is_time_absolute():\n",
    "                reference_time = MAP.time_start - plot_start\n",
    "                time_index = MAP.time_index + reference_time\n",
    "            time_index /= pd.to_timedelta(1, unit=\"h\")\n",
    "            y2=np.array([cutoff]*len(MAP))\n",
    "            ax.fill_between(time_index,MAP.data,y2,where=(MAP.data <= cutoff),interpolate=True, facecolor=orange, alpha=.5)\n",
    "\n",
    "\n",
    "        # check wether legend was redrawn\n",
    "        if axes[0].get_legend():\n",
    "            for ax in axes[:-1]:  \n",
    "                ax.grid(False) #Remove grid\n",
    "                ax.set_xlabel(\"\") # Remove the x-axis label      \n",
    "                leg = ax.get_legend()\n",
    "                if leg:\n",
    "                    leg.remove()  # Remove legend\n",
    "                    \n",
    "            axes[0].grid(axis='y', visible=True)  # optional: keep y-axis grid\n",
    "\n",
    "            for ax in axes[1:-2]:\n",
    "                ax.set_yticks([])  \n",
    "            \n",
    "            # Align labels to the left so they line up with the right axis line\n",
    "            for label in axes[2].get_yticklabels():\n",
    "                label.set_horizontalalignment('right')\n",
    "\n",
    "        # check if AUC is marked\n",
    "        has_fill_between = any(isinstance(col, PolyCollection) for col in axes[0].collections)\n",
    "        if not has_fill_between:\n",
    "            show_auc(case, axes[0], cutoff=65)\n",
    "\n",
    "        # calculate edpoints\n",
    "        endpoints = calculate_endpoints(case)\n",
    "\n",
    "        # Display Results\n",
    "        widget_hbox[\"twa\"].value = endpoints[\"twa\"]\n",
    "        widget_hbox[\"auc\"].value = endpoints[\"auc\"]\n",
    "        widget_hbox[\"hypotens_dur\"].value = endpoints[\"hypotens_dur\"]\n",
    "        widget_hbox[\"anae_dur\"].value = endpoints[\"anae_dur\"]\n",
    "        widget_hbox[\"noa_equivalent\"].value = endpoints[\"noa_equivalent\"]\n",
    "        widget_hbox[\"min_map\"].value = endpoints[\"min_map\"]\n",
    "        widget_hbox[\"max_period_length_no_map\"].value = endpoints[\"max_period_length_no_map\"]\n",
    "        widget_hbox[\"mean_period_length\"].value = endpoints[\"mean_period_length\"]\n",
    "\n",
    "    t_analysis= case.get_label(\"Analysis\").get_data()[0]\n",
    "    plot_start=t_analysis.min() - pd.to_timedelta(padding_time, \"m\")\n",
    "    plot_stop=t_analysis.max() + pd.to_timedelta(padding_time, \"m\")\n",
    "\n",
    "    # Actual plotting\n",
    "    plot= case.plot_interactive(channels=[[\"sys\", \"dia\",\"map\"],\n",
    "                                          [],\n",
    "                                          []],\n",
    "                                labels=[['Anästhesie','Narkose','Chirurgie',\"MAP\",\"_dummy\",\"Analysis\",], \n",
    "                                        ['_localanaesthetics_bolus','_opioids_bolus', '_narcotics_bolus', '_relaxans_bolus', '_pressors_bolus', \"_dummy\", \"Analysis\"],\n",
    "                                        [\"_narcotics_cont\", \"_pressors_cont\",\"_opioids_cont\", \"_dummy\", \"Analysis\"]],     \n",
    "                                channel_overviews=[[\"map\"]],\n",
    "                                subplots_kwargs={\"figsize\": (10, 5), \"gridspec_kw\": {\"height_ratios\": [8, 3, 2,1]}},\n",
    "                                start=plot_start,\n",
    "                                stop=plot_stop,\n",
    "                                time_unit=\"h\")\n",
    "    fig = plot.center.figure\n",
    "    axes = fig.get_axes()\n",
    "\n",
    "    fig.canvas.mpl_connect('draw_event', lambda event: on_draw(event, case))\n",
    "    fig.subplots_adjust(hspace=0)\n",
    "    \n",
    "    # Adapt plot\n",
    "    axes[0].set_ylabel(\"Blood pressure (mmHg)\")\n",
    "    axes[0].xaxis.set_ticks_position('top')\n",
    "    ymin,ymax=axes[0].get_ylim()\n",
    "    axes[0].set_ylim(0,ymax)\n",
    "    axes[3].set_ylim(0,ymax)\n",
    "\n",
    "    text_labels = axes[0].findobj(lambda artist: isinstance(artist, Text) and hasattr(artist, \"_from_vitals_label\"))\n",
    "    for artist in text_labels:\n",
    "        artist.set_y(ymin + 0.1 * (ymax - ymin))\n",
    "\n",
    "    axes[1].set_yticks([])  # Remove the y-axis label\n",
    "    axes[1].set_ylim(0,1) # force to redraw subplot 1\n",
    "\n",
    "    for ax in axes[1:-1]:\n",
    "        ax.set_xticks([])  \n",
    "    \n",
    "    ymin,ymax=axes[2].get_ylim()\n",
    "    ylength = ymax - ymin\n",
    "    axes[2].set_ylim(ymin-ylength/4, ymax+ylength/4)\n",
    "    \n",
    "    # Move ticks and labels to the right side\n",
    "    axes[2].yaxis.tick_right()\n",
    "    axes[2].yaxis.set_label_position(\"right\")\n",
    "    # Move y-tick labels inside the plot\n",
    "    axes[2].tick_params(axis='y', direction='in', pad=-5)  # Adjust pad to move inside\n",
    "\n",
    "    return _wrap_in_widget(case=case, plot=plot, data_out_path=data_out_path, tobe_reviewed=tobe_reviewed, case_index=case_index, container=container, case_holder=case_holder)\n",
    "\n",
    "\n"
   ]
  }
 ],
 "metadata": {
  "kernelspec": {
   "display_name": "Python 3.13 (spa-ga)",
   "language": "python",
   "name": "spa-ga"
  },
  "language_info": {
   "codemirror_mode": {
    "name": "ipython",
    "version": 3
   },
   "file_extension": ".py",
   "mimetype": "text/x-python",
   "name": "python",
   "nbconvert_exporter": "python",
   "pygments_lexer": "ipython3",
   "version": "3.13.3"
  }
 },
 "nbformat": 4,
 "nbformat_minor": 5
}
