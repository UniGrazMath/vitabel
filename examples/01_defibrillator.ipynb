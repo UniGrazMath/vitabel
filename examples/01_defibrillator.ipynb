{
 "cells": [
  {
   "cell_type": "markdown",
   "id": "9602592c-49af-4f2c-99bb-c13b8832d9bd",
   "metadata": {},
   "source": [
    "# Use Case 1: Defibrillator data from out-of-hospital cardiac arrest case\n",
    "\n",
    "<span style = \"font-size:20px\">This notebook illustrates the usage of the `vitabel` class to visualize, annotate and process time-series data from the medical field. In this case we analyze data recorded by a defibrillator during a real-world out-of-hospital cardiac arrest case.<br>\n",
    "This notebook in particular demonstrates the capabilities of vitabel to **display** and **annote** data.\n",
    "</span>\n"
   ]
  },
  {
   "cell_type": "code",
   "execution_count": null,
   "id": "8865d157-3791-4855-a97f-54350306fd38",
   "metadata": {},
   "outputs": [],
   "source": [
    "from vitabel import Vitals, Label\n",
    "\n",
    "import bz2\n",
    "from pathlib import Path\n",
    "import tempfile\n",
    "import shutil\n",
    "from datetime import datetime\n",
    "import pandas as pd"
   ]
  },
  {
   "cell_type": "markdown",
   "id": "71ab307b-df58-4187-ac0e-e92cfdc54834",
   "metadata": {},
   "source": [
    "## 1) Load Data\n",
    "\n",
    "<span style = \"font-size:18px\">An empty vitabel object called `case` is initiated and all channels from a defibrillator recording (in this case a ZOLL X-Series case, stored in a compressed file) are loaded and added to the case.</span>"
   ]
  },
  {
   "cell_type": "code",
   "execution_count": null,
   "id": "680a8cdb-9363-43e7-85fe-c887eaa4923c",
   "metadata": {},
   "outputs": [],
   "source": [
    "case = Vitals()\n",
    "\n",
    "compressed_defi_file = Path(\"data/ZOLL_test_case.json.bz2\")\n",
    "with tempfile.TemporaryDirectory() as tmpdir:\n",
    "    defi_file = Path(tmpdir) / compressed_defi_file.stem\n",
    "    with bz2.open(compressed_defi_file, \"rb\") as source:\n",
    "        with open(defi_file, \"wb\") as dest:\n",
    "            shutil.copyfileobj(source, dest)\n",
    "\n",
    "    case.add_defibrillator_recording(defi_file)"
   ]
  },
  {
   "cell_type": "markdown",
   "id": "e89c24f6-ce00-4b9f-8dee-1b9ae39c7040",
   "metadata": {},
   "source": [
    "<span style = \"font-size:18px\">Every vitable object as well as every channel and label holds a dictionary as `metadata`. In the following we add the usage of the case in this notebook to the metadata. </span>"
   ]
  },
  {
   "cell_type": "code",
   "execution_count": null,
   "id": "02d8aad2",
   "metadata": {},
   "outputs": [],
   "source": [
    "usage_metadata = {\n",
    "    \"vitable publication\" : {\"user\" : \"ENTER YOUR NAME HERE\",\n",
    "                             \"purpose\" : \"higlighting capabilities to display and annotate defibrillator data\",\n",
    "                             \"remarks\" : [\"a usefull tool for researchers\", \"handling data of devices by other manufacturers should be integrated better in the future\"]\n",
    "                            }\n",
    "}\n",
    "case.metadata.update({\"usage\":usage_metadata})\n",
    "\n",
    "print(\"\\nThis are the current metadata stored:\\n\")\n",
    "case.metadata"
   ]
  },
  {
   "cell_type": "markdown",
   "id": "61d0fe0a-0a5b-41bf-9cf5-eb9d6a7a97a8",
   "metadata": {},
   "source": [
    "<span style = \"font-size:18px\">We get an overview over all loaded channels by calling `case.info()`</span>"
   ]
  },
  {
   "cell_type": "code",
   "execution_count": null,
   "id": "e0f72738-92ab-46b8-ae5f-1b99e7de719f",
   "metadata": {},
   "outputs": [],
   "source": [
    "case.info()"
   ]
  },
  {
   "cell_type": "markdown",
   "id": "db1de316-0b7e-4889-a7df-387f612acb86",
   "metadata": {},
   "source": [
    "## 2) Process Data"
   ]
  },
  {
   "cell_type": "markdown",
   "id": "da69a8fb-2221-483b-bc7f-ed12075f3f5f",
   "metadata": {},
   "source": [
    "<span style = \"font-size:18px\">We use integrated algorithms to extract **etCO₂** values and detect **ventilations** from the capnography signal.\\\n",
    "Additionally, we analyze the accelerometer data from the CPR feedback device and the ECG signal from the defibrillation pads to estimate the **probability of spontaneous circulation**.</span>"
   ]
  },
  {
   "cell_type": "code",
   "execution_count": null,
   "id": "f5b80780-8d7e-40b1-8b71-6737bccc1342",
   "metadata": {},
   "outputs": [],
   "source": [
    "case.compute_etco2_and_ventilations()\n",
    "case.predict_circulation()"
   ]
  },
  {
   "cell_type": "markdown",
   "id": "c9e621f9-958d-4d3b-9d5f-b765c5b507f3",
   "metadata": {},
   "source": [
    "## 3) Define new Label"
   ]
  },
  {
   "cell_type": "markdown",
   "id": "3ad19543-11e8-4fa1-b7e1-e497fd5696da",
   "metadata": {},
   "source": [
    "<span style = \"font-size:18px\">We aim to manually **annotate** occurrences of **Return of Spontaneous Circulation (ROSC)**.\\\n",
    "Therefore we create an empty label and add it to the case. With `metadata` we can store miscellaneous data in the label inside a dictionary (`{}`).\\\n",
    "Further we can define the `plotstyle` by giving parameters in another dictionatry.\\\n",
    "<br>\n",
    "`plot_type` defines the way data of the label are depicted in the plot. As the type is also dynamically adapted to the availabel data, we can explore the different types by adding labels with different data in the later generated plot.\\\n",
    "This can be done by activating and deactivating the checkboxes in various combinations.\\\n",
    "<br>\n",
    "More details on Labels can be found [here](https://vitabel.readthedocs.io/en/latest/autoapi/vitabel/timeseries/index.html#vitabel.timeseries.Label).\n",
    "</span>"
   ]
  },
  {
   "cell_type": "code",
   "execution_count": null,
   "id": "d87a3a91-9ab5-4def-bab6-7ca0fd570c37",
   "metadata": {},
   "outputs": [],
   "source": [
    "ROSC_label = Label(\n",
    "    name = \"ROSC\",\n",
    "    time_index = [],\n",
    "    data = [], \n",
    "    text_data = [], \n",
    "    metadata = {\n",
    "        \"Source\": \"manual annotation\",\n",
    "        \"time_of_generation\" : datetime.now()\n",
    "    },\n",
    "    plot_type = \"combined\",\n",
    "    plotstyle = {\"marker\": \"$\\u2665$\", \"color\": \"red\", \"ms\": 10, \"linestyle\": \"\"},\n",
    "\n",
    ")\n",
    "\n",
    "case.add_global_label(ROSC_label)"
   ]
  },
  {
   "cell_type": "markdown",
   "id": "b8fbdd2a-5511-4338-a32f-be65f7cecac8",
   "metadata": {},
   "source": [
    "<span style = \"font-size:18px\">We see the newly added label (`ROSC`) by checking out all present labels in the case.</span>"
   ]
  },
  {
   "cell_type": "code",
   "execution_count": null,
   "id": "fa41b2ae-4e84-4781-8981-4bdbcd58d6e0",
   "metadata": {},
   "outputs": [],
   "source": [
    "case.get_label_names()"
   ]
  },
  {
   "cell_type": "markdown",
   "id": "28ea434a-9206-4315-8bbc-78d5d628dd65",
   "metadata": {},
   "source": [
    "## 4) Interactively Plot Data"
   ]
  },
  {
   "cell_type": "markdown",
   "id": "6dd0dc57-1945-41a9-a442-65b08394edde",
   "metadata": {},
   "source": [
    "<span style = \"font-size:18px\">We provide a setup for the interactive plot.\\\n",
    "The `channels` to be plottted are defined as lists in a list (`[[],[]]`). Each of the inner lists define a new subplot.\\\n",
    "The `labels` to be plotted on top are defined by another lists in a list.\\\n",
    "Subplots below the already defined ones are defined by `channel_overviews`. These subplots serve a special purpose by displaying the entire recording interval and highlighting the depicted subsegement in the upper subplots.\\\n",
    "<br>\n",
    "Above the plot a menu is given to `Annotate`, `Align Timelines`, and deffines `Settings` of the plot.\n",
    "\n",
    "</span>"
   ]
  },
  {
   "cell_type": "code",
   "execution_count": null,
   "id": "25784f03-9ca4-4572-95c2-79a34b155a81",
   "metadata": {},
   "outputs": [],
   "source": [
    "plot = case.plot_interactive(\n",
    "    channels = [\n",
    "        [\"cpr_acceleration\"], \n",
    "        [\"capnography\"], \n",
    "        [\"ecg_pads\"], \n",
    "        []\n",
    "    ],\n",
    "    labels = [\n",
    "        [\"ROSC\"],\n",
    "        [\"etco2_from_capnography\", \"ROSC\"],\n",
    "        [\"ROSC\"],\n",
    "        [\"ROSC\", \"rosc_probability\"],\n",
    "    ],\n",
    "    channel_overviews = [[\"cpr_acceleration\"]],\n",
    "    time_unit = \"s\",\n",
    "    subplots_kwargs = {\"figsize\": (16.5, 8)},\n",
    ")\n",
    "plot"
   ]
  },
  {
   "cell_type": "markdown",
   "id": "bd25a8e6-0b93-4d8c-a042-f733f010aeb4",
   "metadata": {},
   "source": [
    "<span style = \"font-size:18px\">Show the added `data` to the ROSC label</span>"
   ]
  },
  {
   "cell_type": "code",
   "execution_count": null,
   "id": "b51bcde7-f24a-4f70-b8de-57547dd6cf5d",
   "metadata": {},
   "outputs": [],
   "source": [
    "ROSC_label.get_data()"
   ]
  },
  {
   "cell_type": "markdown",
   "id": "e6e66a6d-a70d-40a3-835e-dfa7998c6522",
   "metadata": {},
   "source": [
    "## 5) Store Data\n",
    "<span style = \"font-size:18px\">The entire case can be sotred as a json file.</span>\n"
   ]
  },
  {
   "cell_type": "code",
   "execution_count": null,
   "id": "5d90d861-61df-43cb-a898-042504ea1beb",
   "metadata": {},
   "outputs": [],
   "source": [
    "case.save_data(\"case_1.json\")"
   ]
  },
  {
   "cell_type": "markdown",
   "id": "31e06500-d464-49c9-8b54-6a6cc7496886",
   "metadata": {},
   "source": [
    "<span style = \"font-size:18px\">Data of the added label can also be stored as a csv spreadsheet.</span>"
   ]
  },
  {
   "cell_type": "code",
   "execution_count": null,
   "id": "659c2881-73c6-489c-8e9f-4bfdc7c4918f",
   "metadata": {},
   "outputs": [],
   "source": [
    "case.get_label(\"ROSC\").to_csv()\n",
    "pd.read_csv(\"ROSC.csv\", index_col = 0)"
   ]
  },
  {
   "cell_type": "markdown",
   "id": "fb98f6b6-cd20-47d7-8901-7213862de02e",
   "metadata": {},
   "source": [
    "<span style = \"font-size:18px\">Alternatively the added label can be returned as dictionary with all its features.</span>\n"
   ]
  },
  {
   "cell_type": "code",
   "execution_count": null,
   "id": "00fbafcb-e999-4ee0-b809-1c91fac38fc3",
   "metadata": {},
   "outputs": [],
   "source": [
    "case.get_label(\"ROSC\").to_dict()"
   ]
  }
 ],
 "metadata": {
  "kernelspec": {
   "display_name": "Python 3.13 (spa-ga)",
   "language": "python",
   "name": "spa-ga"
  },
  "language_info": {
   "codemirror_mode": {
    "name": "ipython",
    "version": 3
   },
   "file_extension": ".py",
   "mimetype": "text/x-python",
   "name": "python",
   "nbconvert_exporter": "python",
   "pygments_lexer": "ipython3",
   "version": "3.13.3"
  }
 },
 "nbformat": 4,
 "nbformat_minor": 5
}
