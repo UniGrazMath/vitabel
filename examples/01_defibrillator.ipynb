{
 "cells": [
  {
   "cell_type": "markdown",
   "id": "9602592c-49af-4f2c-99bb-c13b8832d9bd",
   "metadata": {},
   "source": [
    "# Use Case 1: Defibrillator data from out-of-hospital cardiac arrest case\n",
    "\n",
    "<span style = \"font-size:20px\">This notebook illustrates the usage of the `vitabel` class to visualize, annotate and process time-series data from the medical field. Please find the detailed, searchable documentation here: \n",
    "[![Documentation Status](https://readthedocs.org/projects/vitabel/badge/?version=latest)](https://vitabel.readthedocs.io/en/latest/?badge=latest) <br>\n",
    "In this case we analyze data recorded by a defibrillator during a real-world out-of-hospital cardiac arrest case.\n",
    "This notebook in particular demonstrates the capabilities of vitabel to **display** and **annote** data.\n",
    "</span>\n"
   ]
  },
  {
   "cell_type": "code",
   "execution_count": 1,
   "id": "8865d157-3791-4855-a97f-54350306fd38",
   "metadata": {},
   "outputs": [],
   "source": [
    "from vitabel import Vitals, Label\n",
    "\n",
    "import bz2\n",
    "from pathlib import Path\n",
    "import tempfile\n",
    "import shutil\n",
    "from datetime import datetime\n",
    "import pandas as pd"
   ]
  },
  {
   "cell_type": "markdown",
   "id": "71ab307b-df58-4187-ac0e-e92cfdc54834",
   "metadata": {},
   "source": [
    "## 1) Load Data\n",
    "\n",
    "<span style = \"font-size:18px\">An empty vitabel object called `case` is initiated and all channels from a defibrillator recording (in this case a ZOLL X-Series case, stored in a compressed file) are loaded and added to the case.</span>"
   ]
  },
  {
   "cell_type": "code",
   "execution_count": 2,
   "id": "680a8cdb-9363-43e7-85fe-c887eaa4923c",
   "metadata": {},
   "outputs": [],
   "source": [
    "case = Vitals()\n",
    "\n",
    "compressed_defi_file = Path(\"data/ZOLL_test_case.json.bz2\")\n",
    "with tempfile.TemporaryDirectory() as tmpdir:\n",
    "    defi_file = Path(tmpdir) / compressed_defi_file.stem\n",
    "    with bz2.open(compressed_defi_file, \"rb\") as source:\n",
    "        with open(defi_file, \"wb\") as dest:\n",
    "            shutil.copyfileobj(source, dest)\n",
    "\n",
    "    case.add_defibrillator_recording(defi_file)"
   ]
  },
  {
   "cell_type": "markdown",
   "id": "e89c24f6-ce00-4b9f-8dee-1b9ae39c7040",
   "metadata": {},
   "source": [
    "<span style = \"font-size:18px\">Every vitable object as well as every channel and label holds a dictionary as `metadata`. In the following we add the usage of the case in this notebook to the metadata. </span>"
   ]
  },
  {
   "cell_type": "code",
   "execution_count": 3,
   "id": "02d8aad2",
   "metadata": {},
   "outputs": [
    {
     "name": "stdout",
     "output_type": "stream",
     "text": [
      "\n",
      "This are the current metadata stored:\n",
      "\n"
     ]
    },
    {
     "data": {
      "text/plain": [
       "{'Time_of_construction': '2025-06-12 20:17:45.251808',\n",
       " 'Recording_files_added': ['/tmp/tmprzu_pmca/ZOLL_test_case.json'],\n",
       " 'Saving_to_json_time': '',\n",
       " 'usage': {'vitable publication': {'user': 'ENTER YOUR NAME HERE',\n",
       "   'purpose': 'higlighting capabilities to display and annotate defibrillator data',\n",
       "   'remarks': ['a usefull tool for researchers',\n",
       "    'handling data of devices by other manufacturers should be integrated better in the future']}}}"
      ]
     },
     "execution_count": 3,
     "metadata": {},
     "output_type": "execute_result"
    }
   ],
   "source": [
    "usage_metadata = {\n",
    "    \"vitable publication\" : {\"user\" : \"ENTER YOUR NAME HERE\",\n",
    "                             \"purpose\" : \"higlighting capabilities to display and annotate defibrillator data\",\n",
    "                             \"remarks\" : [\"a usefull tool for researchers\", \"handling data of devices by other manufacturers should be integrated better in the future\"]\n",
    "                            }\n",
    "}\n",
    "case.metadata.update({\"usage\":usage_metadata})\n",
    "\n",
    "print(\"\\nThis are the current metadata stored:\\n\")\n",
    "case.metadata"
   ]
  },
  {
   "cell_type": "markdown",
   "id": "61d0fe0a-0a5b-41bf-9cf5-eb9d6a7a97a8",
   "metadata": {},
   "source": [
    "<span style = \"font-size:18px\">We get an overview over all loaded channels by calling `case.info()`</span>"
   ]
  },
  {
   "cell_type": "code",
   "execution_count": 4,
   "id": "e0f72738-92ab-46b8-ae5f-1b99e7de719f",
   "metadata": {},
   "outputs": [
    {
     "data": {
      "text/html": [
       "<div>\n",
       "<style scoped>\n",
       "    .dataframe tbody tr th:only-of-type {\n",
       "        vertical-align: middle;\n",
       "    }\n",
       "\n",
       "    .dataframe tbody tr th {\n",
       "        vertical-align: top;\n",
       "    }\n",
       "\n",
       "    .dataframe thead th {\n",
       "        text-align: right;\n",
       "    }\n",
       "</style>\n",
       "<table border=\"1\" class=\"dataframe\">\n",
       "  <thead>\n",
       "    <tr style=\"text-align: right;\">\n",
       "      <th></th>\n",
       "      <th>Name</th>\n",
       "      <th>Length</th>\n",
       "      <th>First Entry</th>\n",
       "      <th>Last Entry</th>\n",
       "      <th>Offset</th>\n",
       "      <th>File ID</th>\n",
       "      <th>Serial Nr</th>\n",
       "      <th>Model</th>\n",
       "      <th>source</th>\n",
       "    </tr>\n",
       "  </thead>\n",
       "  <tbody>\n",
       "    <tr>\n",
       "      <th>0</th>\n",
       "      <td>defibrillations_Nr</td>\n",
       "      <td>1</td>\n",
       "      <td>1970-01-01 07:36:54.645000</td>\n",
       "      <td>1970-01-01 07:36:54.645000</td>\n",
       "      <td>0 days 00:00:00</td>\n",
       "      <td>ZOLL_test_case.json</td>\n",
       "      <td>AR00XXXXXXX</td>\n",
       "      <td>ZOLL - X Series</td>\n",
       "      <td>ZOLL - X Series</td>\n",
       "    </tr>\n",
       "    <tr>\n",
       "      <th>1</th>\n",
       "      <td>defibrillations_DefaultEnergy</td>\n",
       "      <td>1</td>\n",
       "      <td>1970-01-01 07:36:54.645000</td>\n",
       "      <td>1970-01-01 07:36:54.645000</td>\n",
       "      <td>0 days 00:00:00</td>\n",
       "      <td>ZOLL_test_case.json</td>\n",
       "      <td>AR00XXXXXXX</td>\n",
       "      <td>ZOLL - X Series</td>\n",
       "      <td>ZOLL - X Series</td>\n",
       "    </tr>\n",
       "    <tr>\n",
       "      <th>2</th>\n",
       "      <td>defibrillations_DeliveredEnergy</td>\n",
       "      <td>1</td>\n",
       "      <td>1970-01-01 07:36:54.645000</td>\n",
       "      <td>1970-01-01 07:36:54.645000</td>\n",
       "      <td>0 days 00:00:00</td>\n",
       "      <td>ZOLL_test_case.json</td>\n",
       "      <td>AR00XXXXXXX</td>\n",
       "      <td>ZOLL - X Series</td>\n",
       "      <td>ZOLL - X Series</td>\n",
       "    </tr>\n",
       "    <tr>\n",
       "      <th>3</th>\n",
       "      <td>defibrillations_Impedance</td>\n",
       "      <td>1</td>\n",
       "      <td>1970-01-01 07:36:54.645000</td>\n",
       "      <td>1970-01-01 07:36:54.645000</td>\n",
       "      <td>0 days 00:00:00</td>\n",
       "      <td>ZOLL_test_case.json</td>\n",
       "      <td>AR00XXXXXXX</td>\n",
       "      <td>ZOLL - X Series</td>\n",
       "      <td>ZOLL - X Series</td>\n",
       "    </tr>\n",
       "    <tr>\n",
       "      <th>4</th>\n",
       "      <td>defibrillations_Current</td>\n",
       "      <td>1</td>\n",
       "      <td>1970-01-01 07:36:54.645000</td>\n",
       "      <td>1970-01-01 07:36:54.645000</td>\n",
       "      <td>0 days 00:00:00</td>\n",
       "      <td>ZOLL_test_case.json</td>\n",
       "      <td>AR00XXXXXXX</td>\n",
       "      <td>ZOLL - X Series</td>\n",
       "      <td>ZOLL - X Series</td>\n",
       "    </tr>\n",
       "    <tr>\n",
       "      <th>5</th>\n",
       "      <td>capnography</td>\n",
       "      <td>450750</td>\n",
       "      <td>1970-01-01 07:28:47.423000</td>\n",
       "      <td>1970-01-01 08:29:08.415000</td>\n",
       "      <td>0 days 00:00:00</td>\n",
       "      <td>ZOLL_test_case.json</td>\n",
       "      <td>AR00XXXXXXX</td>\n",
       "      <td>ZOLL - X Series</td>\n",
       "      <td>ZOLL - X Series</td>\n",
       "    </tr>\n",
       "    <tr>\n",
       "      <th>6</th>\n",
       "      <td>cpr_acceleration</td>\n",
       "      <td>1027500</td>\n",
       "      <td>1970-01-01 07:23:46.419000</td>\n",
       "      <td>1970-01-01 08:32:22.415000</td>\n",
       "      <td>0 days 00:00:00</td>\n",
       "      <td>ZOLL_test_case.json</td>\n",
       "      <td>AR00XXXXXXX</td>\n",
       "      <td>ZOLL - X Series</td>\n",
       "      <td>ZOLL - X Series</td>\n",
       "    </tr>\n",
       "    <tr>\n",
       "      <th>7</th>\n",
       "      <td>ecg_filtered</td>\n",
       "      <td>966000</td>\n",
       "      <td>1970-01-01 07:23:56.419000</td>\n",
       "      <td>1970-01-01 08:28:20.415000</td>\n",
       "      <td>0 days 00:00:00</td>\n",
       "      <td>ZOLL_test_case.json</td>\n",
       "      <td>AR00XXXXXXX</td>\n",
       "      <td>ZOLL - X Series</td>\n",
       "      <td>ZOLL - X Series</td>\n",
       "    </tr>\n",
       "    <tr>\n",
       "      <th>8</th>\n",
       "      <td>ecg_pads</td>\n",
       "      <td>1020750</td>\n",
       "      <td>1970-01-01 07:23:47.419000</td>\n",
       "      <td>1970-01-01 08:31:56.415000</td>\n",
       "      <td>0 days 00:00:00</td>\n",
       "      <td>ZOLL_test_case.json</td>\n",
       "      <td>AR00XXXXXXX</td>\n",
       "      <td>ZOLL - X Series</td>\n",
       "      <td>ZOLL - X Series</td>\n",
       "    </tr>\n",
       "    <tr>\n",
       "      <th>9</th>\n",
       "      <td>impedance</td>\n",
       "      <td>510000</td>\n",
       "      <td>1970-01-01 07:23:47.423000</td>\n",
       "      <td>1970-01-01 08:31:56.415000</td>\n",
       "      <td>0 days 00:00:00</td>\n",
       "      <td>ZOLL_test_case.json</td>\n",
       "      <td>AR00XXXXXXX</td>\n",
       "      <td>ZOLL - X Series</td>\n",
       "      <td>ZOLL - X Series</td>\n",
       "    </tr>\n",
       "    <tr>\n",
       "      <th>10</th>\n",
       "      <td>ppg</td>\n",
       "      <td>31875</td>\n",
       "      <td>1970-01-01 07:24:08.415000</td>\n",
       "      <td>1970-01-01 07:28:23.407000</td>\n",
       "      <td>0 days 00:00:00</td>\n",
       "      <td>ZOLL_test_case.json</td>\n",
       "      <td>AR00XXXXXXX</td>\n",
       "      <td>ZOLL - X Series</td>\n",
       "      <td>ZOLL - X Series</td>\n",
       "    </tr>\n",
       "    <tr>\n",
       "      <th>11</th>\n",
       "      <td>heart_rate</td>\n",
       "      <td>180</td>\n",
       "      <td>1970-01-01 07:23:57.904000</td>\n",
       "      <td>1970-01-01 08:31:25.361000</td>\n",
       "      <td>0 days 00:00:00</td>\n",
       "      <td>ZOLL_test_case.json</td>\n",
       "      <td>AR00XXXXXXX</td>\n",
       "      <td>ZOLL - X Series</td>\n",
       "      <td>ZOLL - X Series</td>\n",
       "    </tr>\n",
       "    <tr>\n",
       "      <th>12</th>\n",
       "      <td>spo2</td>\n",
       "      <td>142</td>\n",
       "      <td>1970-01-01 07:24:15.490000</td>\n",
       "      <td>1970-01-01 08:28:55.522000</td>\n",
       "      <td>0 days 00:00:00</td>\n",
       "      <td>ZOLL_test_case.json</td>\n",
       "      <td>AR00XXXXXXX</td>\n",
       "      <td>ZOLL - X Series</td>\n",
       "      <td>ZOLL - X Series</td>\n",
       "    </tr>\n",
       "    <tr>\n",
       "      <th>13</th>\n",
       "      <td>mean_inspired_co2</td>\n",
       "      <td>163</td>\n",
       "      <td>1970-01-01 07:28:59.760000</td>\n",
       "      <td>1970-01-01 08:28:55.522000</td>\n",
       "      <td>0 days 00:00:00</td>\n",
       "      <td>ZOLL_test_case.json</td>\n",
       "      <td>AR00XXXXXXX</td>\n",
       "      <td>ZOLL - X Series</td>\n",
       "      <td>ZOLL - X Series</td>\n",
       "    </tr>\n",
       "    <tr>\n",
       "      <th>14</th>\n",
       "      <td>etco2</td>\n",
       "      <td>163</td>\n",
       "      <td>1970-01-01 07:28:59.760000</td>\n",
       "      <td>1970-01-01 08:28:55.522000</td>\n",
       "      <td>0 days 00:00:00</td>\n",
       "      <td>ZOLL_test_case.json</td>\n",
       "      <td>AR00XXXXXXX</td>\n",
       "      <td>ZOLL - X Series</td>\n",
       "      <td>ZOLL - X Series</td>\n",
       "    </tr>\n",
       "    <tr>\n",
       "      <th>15</th>\n",
       "      <td>respiratory_rate</td>\n",
       "      <td>162</td>\n",
       "      <td>1970-01-01 07:28:59.760000</td>\n",
       "      <td>1970-01-01 08:28:55.522000</td>\n",
       "      <td>0 days 00:00:00</td>\n",
       "      <td>ZOLL_test_case.json</td>\n",
       "      <td>AR00XXXXXXX</td>\n",
       "      <td>ZOLL - X Series</td>\n",
       "      <td>ZOLL - X Series</td>\n",
       "    </tr>\n",
       "    <tr>\n",
       "      <th>16</th>\n",
       "      <td>nibp_map</td>\n",
       "      <td>11</td>\n",
       "      <td>1970-01-01 07:35:45</td>\n",
       "      <td>1970-01-01 08:27:30</td>\n",
       "      <td>0 days 00:00:00</td>\n",
       "      <td>ZOLL_test_case.json</td>\n",
       "      <td>AR00XXXXXXX</td>\n",
       "      <td>ZOLL - X Series</td>\n",
       "      <td>ZOLL - X Series</td>\n",
       "    </tr>\n",
       "    <tr>\n",
       "      <th>17</th>\n",
       "      <td>nibp_sys</td>\n",
       "      <td>11</td>\n",
       "      <td>1970-01-01 07:35:45</td>\n",
       "      <td>1970-01-01 08:27:30</td>\n",
       "      <td>0 days 00:00:00</td>\n",
       "      <td>ZOLL_test_case.json</td>\n",
       "      <td>AR00XXXXXXX</td>\n",
       "      <td>ZOLL - X Series</td>\n",
       "      <td>ZOLL - X Series</td>\n",
       "    </tr>\n",
       "    <tr>\n",
       "      <th>18</th>\n",
       "      <td>nibp_dia</td>\n",
       "      <td>11</td>\n",
       "      <td>1970-01-01 07:35:45</td>\n",
       "      <td>1970-01-01 08:27:30</td>\n",
       "      <td>0 days 00:00:00</td>\n",
       "      <td>ZOLL_test_case.json</td>\n",
       "      <td>AR00XXXXXXX</td>\n",
       "      <td>ZOLL - X Series</td>\n",
       "      <td>ZOLL - X Series</td>\n",
       "    </tr>\n",
       "    <tr>\n",
       "      <th>19</th>\n",
       "      <td>temperature_1</td>\n",
       "      <td>159</td>\n",
       "      <td>1970-01-01 07:36:29.204000</td>\n",
       "      <td>1970-01-01 08:36:25.062000</td>\n",
       "      <td>0 days 00:00:00</td>\n",
       "      <td>ZOLL_test_case.json</td>\n",
       "      <td>AR00XXXXXXX</td>\n",
       "      <td>ZOLL - X Series</td>\n",
       "      <td>ZOLL - X Series</td>\n",
       "    </tr>\n",
       "    <tr>\n",
       "      <th>20</th>\n",
       "      <td>cc_depth</td>\n",
       "      <td>2555</td>\n",
       "      <td>1970-01-01 07:23:47.622000</td>\n",
       "      <td>1970-01-01 08:32:10.548000</td>\n",
       "      <td>0 days 00:00:00</td>\n",
       "      <td>ZOLL_test_case.json</td>\n",
       "      <td>AR00XXXXXXX</td>\n",
       "      <td>ZOLL - X Series</td>\n",
       "      <td>ZOLL - X Series</td>\n",
       "    </tr>\n",
       "    <tr>\n",
       "      <th>21</th>\n",
       "      <td>cc_release_velocity</td>\n",
       "      <td>2555</td>\n",
       "      <td>1970-01-01 07:23:47.622000</td>\n",
       "      <td>1970-01-01 08:32:10.548000</td>\n",
       "      <td>0 days 00:00:00</td>\n",
       "      <td>ZOLL_test_case.json</td>\n",
       "      <td>AR00XXXXXXX</td>\n",
       "      <td>ZOLL - X Series</td>\n",
       "      <td>ZOLL - X Series</td>\n",
       "    </tr>\n",
       "    <tr>\n",
       "      <th>22</th>\n",
       "      <td>cc_rate</td>\n",
       "      <td>2555</td>\n",
       "      <td>1970-01-01 07:23:47.622000</td>\n",
       "      <td>1970-01-01 08:32:10.548000</td>\n",
       "      <td>0 days 00:00:00</td>\n",
       "      <td>ZOLL_test_case.json</td>\n",
       "      <td>AR00XXXXXXX</td>\n",
       "      <td>ZOLL - X Series</td>\n",
       "      <td>ZOLL - X Series</td>\n",
       "    </tr>\n",
       "  </tbody>\n",
       "</table>\n",
       "</div>"
      ],
      "text/plain": [
       "                               Name   Length                 First Entry  \\\n",
       "0                defibrillations_Nr        1  1970-01-01 07:36:54.645000   \n",
       "1     defibrillations_DefaultEnergy        1  1970-01-01 07:36:54.645000   \n",
       "2   defibrillations_DeliveredEnergy        1  1970-01-01 07:36:54.645000   \n",
       "3         defibrillations_Impedance        1  1970-01-01 07:36:54.645000   \n",
       "4           defibrillations_Current        1  1970-01-01 07:36:54.645000   \n",
       "5                       capnography   450750  1970-01-01 07:28:47.423000   \n",
       "6                  cpr_acceleration  1027500  1970-01-01 07:23:46.419000   \n",
       "7                      ecg_filtered   966000  1970-01-01 07:23:56.419000   \n",
       "8                          ecg_pads  1020750  1970-01-01 07:23:47.419000   \n",
       "9                         impedance   510000  1970-01-01 07:23:47.423000   \n",
       "10                              ppg    31875  1970-01-01 07:24:08.415000   \n",
       "11                       heart_rate      180  1970-01-01 07:23:57.904000   \n",
       "12                             spo2      142  1970-01-01 07:24:15.490000   \n",
       "13                mean_inspired_co2      163  1970-01-01 07:28:59.760000   \n",
       "14                            etco2      163  1970-01-01 07:28:59.760000   \n",
       "15                 respiratory_rate      162  1970-01-01 07:28:59.760000   \n",
       "16                         nibp_map       11         1970-01-01 07:35:45   \n",
       "17                         nibp_sys       11         1970-01-01 07:35:45   \n",
       "18                         nibp_dia       11         1970-01-01 07:35:45   \n",
       "19                    temperature_1      159  1970-01-01 07:36:29.204000   \n",
       "20                         cc_depth     2555  1970-01-01 07:23:47.622000   \n",
       "21              cc_release_velocity     2555  1970-01-01 07:23:47.622000   \n",
       "22                          cc_rate     2555  1970-01-01 07:23:47.622000   \n",
       "\n",
       "                    Last Entry           Offset              File ID  \\\n",
       "0   1970-01-01 07:36:54.645000  0 days 00:00:00  ZOLL_test_case.json   \n",
       "1   1970-01-01 07:36:54.645000  0 days 00:00:00  ZOLL_test_case.json   \n",
       "2   1970-01-01 07:36:54.645000  0 days 00:00:00  ZOLL_test_case.json   \n",
       "3   1970-01-01 07:36:54.645000  0 days 00:00:00  ZOLL_test_case.json   \n",
       "4   1970-01-01 07:36:54.645000  0 days 00:00:00  ZOLL_test_case.json   \n",
       "5   1970-01-01 08:29:08.415000  0 days 00:00:00  ZOLL_test_case.json   \n",
       "6   1970-01-01 08:32:22.415000  0 days 00:00:00  ZOLL_test_case.json   \n",
       "7   1970-01-01 08:28:20.415000  0 days 00:00:00  ZOLL_test_case.json   \n",
       "8   1970-01-01 08:31:56.415000  0 days 00:00:00  ZOLL_test_case.json   \n",
       "9   1970-01-01 08:31:56.415000  0 days 00:00:00  ZOLL_test_case.json   \n",
       "10  1970-01-01 07:28:23.407000  0 days 00:00:00  ZOLL_test_case.json   \n",
       "11  1970-01-01 08:31:25.361000  0 days 00:00:00  ZOLL_test_case.json   \n",
       "12  1970-01-01 08:28:55.522000  0 days 00:00:00  ZOLL_test_case.json   \n",
       "13  1970-01-01 08:28:55.522000  0 days 00:00:00  ZOLL_test_case.json   \n",
       "14  1970-01-01 08:28:55.522000  0 days 00:00:00  ZOLL_test_case.json   \n",
       "15  1970-01-01 08:28:55.522000  0 days 00:00:00  ZOLL_test_case.json   \n",
       "16         1970-01-01 08:27:30  0 days 00:00:00  ZOLL_test_case.json   \n",
       "17         1970-01-01 08:27:30  0 days 00:00:00  ZOLL_test_case.json   \n",
       "18         1970-01-01 08:27:30  0 days 00:00:00  ZOLL_test_case.json   \n",
       "19  1970-01-01 08:36:25.062000  0 days 00:00:00  ZOLL_test_case.json   \n",
       "20  1970-01-01 08:32:10.548000  0 days 00:00:00  ZOLL_test_case.json   \n",
       "21  1970-01-01 08:32:10.548000  0 days 00:00:00  ZOLL_test_case.json   \n",
       "22  1970-01-01 08:32:10.548000  0 days 00:00:00  ZOLL_test_case.json   \n",
       "\n",
       "      Serial Nr            Model           source  \n",
       "0   AR00XXXXXXX  ZOLL - X Series  ZOLL - X Series  \n",
       "1   AR00XXXXXXX  ZOLL - X Series  ZOLL - X Series  \n",
       "2   AR00XXXXXXX  ZOLL - X Series  ZOLL - X Series  \n",
       "3   AR00XXXXXXX  ZOLL - X Series  ZOLL - X Series  \n",
       "4   AR00XXXXXXX  ZOLL - X Series  ZOLL - X Series  \n",
       "5   AR00XXXXXXX  ZOLL - X Series  ZOLL - X Series  \n",
       "6   AR00XXXXXXX  ZOLL - X Series  ZOLL - X Series  \n",
       "7   AR00XXXXXXX  ZOLL - X Series  ZOLL - X Series  \n",
       "8   AR00XXXXXXX  ZOLL - X Series  ZOLL - X Series  \n",
       "9   AR00XXXXXXX  ZOLL - X Series  ZOLL - X Series  \n",
       "10  AR00XXXXXXX  ZOLL - X Series  ZOLL - X Series  \n",
       "11  AR00XXXXXXX  ZOLL - X Series  ZOLL - X Series  \n",
       "12  AR00XXXXXXX  ZOLL - X Series  ZOLL - X Series  \n",
       "13  AR00XXXXXXX  ZOLL - X Series  ZOLL - X Series  \n",
       "14  AR00XXXXXXX  ZOLL - X Series  ZOLL - X Series  \n",
       "15  AR00XXXXXXX  ZOLL - X Series  ZOLL - X Series  \n",
       "16  AR00XXXXXXX  ZOLL - X Series  ZOLL - X Series  \n",
       "17  AR00XXXXXXX  ZOLL - X Series  ZOLL - X Series  \n",
       "18  AR00XXXXXXX  ZOLL - X Series  ZOLL - X Series  \n",
       "19  AR00XXXXXXX  ZOLL - X Series  ZOLL - X Series  \n",
       "20  AR00XXXXXXX  ZOLL - X Series  ZOLL - X Series  \n",
       "21  AR00XXXXXXX  ZOLL - X Series  ZOLL - X Series  \n",
       "22  AR00XXXXXXX  ZOLL - X Series  ZOLL - X Series  "
      ]
     },
     "metadata": {},
     "output_type": "display_data"
    },
    {
     "data": {
      "text/html": [
       "<div>\n",
       "<style scoped>\n",
       "    .dataframe tbody tr th:only-of-type {\n",
       "        vertical-align: middle;\n",
       "    }\n",
       "\n",
       "    .dataframe tbody tr th {\n",
       "        vertical-align: top;\n",
       "    }\n",
       "\n",
       "    .dataframe thead th {\n",
       "        text-align: right;\n",
       "    }\n",
       "</style>\n",
       "<table border=\"1\" class=\"dataframe\">\n",
       "  <thead>\n",
       "    <tr style=\"text-align: right;\">\n",
       "      <th></th>\n",
       "      <th>Name</th>\n",
       "      <th>Length</th>\n",
       "      <th>First Entry</th>\n",
       "      <th>Last Entry</th>\n",
       "      <th>Offset</th>\n",
       "    </tr>\n",
       "  </thead>\n",
       "  <tbody>\n",
       "  </tbody>\n",
       "</table>\n",
       "</div>"
      ],
      "text/plain": [
       "Empty DataFrame\n",
       "Columns: [Name, Length, First Entry, Last Entry, Offset]\n",
       "Index: []"
      ]
     },
     "metadata": {},
     "output_type": "display_data"
    }
   ],
   "source": [
    "case.info()"
   ]
  },
  {
   "cell_type": "markdown",
   "id": "db1de316-0b7e-4889-a7df-387f612acb86",
   "metadata": {},
   "source": [
    "## 2) Process Data"
   ]
  },
  {
   "cell_type": "markdown",
   "id": "da69a8fb-2221-483b-bc7f-ed12075f3f5f",
   "metadata": {},
   "source": [
    "<span style = \"font-size:18px\">We use integrated algorithms to extract **etCO₂** values and detect **ventilations** from the capnography signal.\\\n",
    "Additionally, we analyze the accelerometer data from the CPR feedback device and the ECG signal from the defibrillation pads to estimate the **probability of spontaneous circulation**.</span>"
   ]
  },
  {
   "cell_type": "code",
   "execution_count": 5,
   "id": "f5b80780-8d7e-40b1-8b71-6737bccc1342",
   "metadata": {},
   "outputs": [
    {
     "name": "stderr",
     "output_type": "stream",
     "text": [
      "/home/gpfs/o_orlob/.miniconda/envs/spa-ga/lib/python3.13/site-packages/sklearn/base.py:380: InconsistentVersionWarning: Trying to unpickle estimator SVC from version 1.5.1 when using version 1.6.1. This might lead to breaking code or invalid results. Use at your own risk. For more info please refer to:\n",
      "https://scikit-learn.org/stable/model_persistence.html#security-maintainability-limitations\n",
      "  warnings.warn(\n",
      "/home/gpfs/o_orlob/.miniconda/envs/spa-ga/lib/python3.13/site-packages/sklearn/base.py:380: InconsistentVersionWarning: Trying to unpickle estimator RobustScaler from version 1.5.1 when using version 1.6.1. This might lead to breaking code or invalid results. Use at your own risk. For more info please refer to:\n",
      "https://scikit-learn.org/stable/model_persistence.html#security-maintainability-limitations\n",
      "  warnings.warn(\n"
     ]
    }
   ],
   "source": [
    "case.compute_etco2_and_ventilations()\n",
    "case.predict_circulation()"
   ]
  },
  {
   "cell_type": "markdown",
   "id": "c9e621f9-958d-4d3b-9d5f-b765c5b507f3",
   "metadata": {},
   "source": [
    "## 3) Define new Label"
   ]
  },
  {
   "cell_type": "markdown",
   "id": "3ad19543-11e8-4fa1-b7e1-e497fd5696da",
   "metadata": {},
   "source": [
    "<span style = \"font-size:18px\">We aim to manually **annotate** occurrences of **Return of Spontaneous Circulation (ROSC)**.\\\n",
    "Therefore we create an empty label and add it to the case. With `metadata` we can store miscellaneous data in the label inside a dictionary (`{}`).\\\n",
    "Further we can define the `plotstyle` by giving parameters in another dictionatry.\\\n",
    "<br>\n",
    "`plot_type` defines the way data of the label are depicted in the plot. As the type is also dynamically adapted to the availabel data, we can explore the different types by adding labels with different data in the later generated plot.\\\n",
    "This can be done by activating and deactivating the checkboxes in various combinations.\\\n",
    "<br>\n",
    "More details on Labels can be found [here](https://vitabel.readthedocs.io/en/latest/autoapi/vitabel/timeseries/index.html#vitabel.timeseries.Label).\n",
    "</span>"
   ]
  },
  {
   "cell_type": "code",
   "execution_count": 6,
   "id": "d87a3a91-9ab5-4def-bab6-7ca0fd570c37",
   "metadata": {},
   "outputs": [],
   "source": [
    "ROSC_label = Label(\n",
    "    name = \"ROSC\",\n",
    "    time_index = [],\n",
    "    data = [], \n",
    "    text_data = [], \n",
    "    metadata = {\n",
    "        \"Source\": \"manual annotation\",\n",
    "        \"time_of_generation\" : datetime.now()\n",
    "    },\n",
    "    plot_type = \"combined\",\n",
    "    plotstyle = {\"marker\": \"$\\u2665$\", \"color\": \"red\", \"ms\": 10, \"linestyle\": \"\"},\n",
    "\n",
    ")\n",
    "\n",
    "case.add_global_label(ROSC_label)"
   ]
  },
  {
   "cell_type": "markdown",
   "id": "b8fbdd2a-5511-4338-a32f-be65f7cecac8",
   "metadata": {},
   "source": [
    "<span style = \"font-size:18px\">We see the newly added label (`ROSC`) by checking out all present labels in the case.</span>"
   ]
  },
  {
   "cell_type": "code",
   "execution_count": 7,
   "id": "fa41b2ae-4e84-4781-8981-4bdbcd58d6e0",
   "metadata": {},
   "outputs": [
    {
     "data": {
      "text/plain": [
       "['rosc_prediction',\n",
       " 'rosc_probability',\n",
       " 'rosc_decision_function',\n",
       " 'ROSC',\n",
       " 'etco2_from_capnography',\n",
       " 'ventilations_from_capnography',\n",
       " 'cc_periods']"
      ]
     },
     "execution_count": 7,
     "metadata": {},
     "output_type": "execute_result"
    }
   ],
   "source": [
    "case.get_label_names()"
   ]
  },
  {
   "cell_type": "markdown",
   "id": "28ea434a-9206-4315-8bbc-78d5d628dd65",
   "metadata": {},
   "source": [
    "## 4) Interactively Plot Data"
   ]
  },
  {
   "cell_type": "markdown",
   "id": "6dd0dc57-1945-41a9-a442-65b08394edde",
   "metadata": {},
   "source": [
    "<span style = \"font-size:18px\">We provide a setup for the interactive plot.\\\n",
    "The `channels` to be plottted are defined as lists in a list (`[[],[]]`). Each of the inner lists define a new subplot.\\\n",
    "The `labels` to be plotted on top are defined by another lists in a list.\\\n",
    "Subplots below the already defined ones are defined by `channel_overviews`. These subplots serve a special purpose by displaying the entire recording interval and highlighting the depicted subsegement in the upper subplots.\\\n",
    "<br>\n",
    "Above the plot a menu is given to `Annotate`, `Align Timelines`, and deffines `Settings` of the plot.\n",
    "\n",
    "</span>"
   ]
  },
  {
   "cell_type": "code",
   "execution_count": 11,
   "id": "25784f03-9ca4-4572-95c2-79a34b155a81",
   "metadata": {},
   "outputs": [
    {
     "ename": "UnboundLocalError",
     "evalue": "cannot access local variable 'filtered_base_plotstyle' where it is not associated with a value",
     "output_type": "error",
     "traceback": [
      "\u001b[31m---------------------------------------------------------------------------\u001b[39m",
      "\u001b[31mUnboundLocalError\u001b[39m                         Traceback (most recent call last)",
      "\u001b[36mCell\u001b[39m\u001b[36m \u001b[39m\u001b[32mIn[11]\u001b[39m\u001b[32m, line 1\u001b[39m\n\u001b[32m----> \u001b[39m\u001b[32m1\u001b[39m plot = \u001b[43mcase\u001b[49m\u001b[43m.\u001b[49m\u001b[43mplot_interactive\u001b[49m\u001b[43m(\u001b[49m\n\u001b[32m      2\u001b[39m \u001b[43m    \u001b[49m\u001b[43mchannels\u001b[49m\u001b[43m \u001b[49m\u001b[43m=\u001b[49m\u001b[43m \u001b[49m\u001b[43m[\u001b[49m\n\u001b[32m      3\u001b[39m \u001b[43m        \u001b[49m\u001b[43m[\u001b[49m\u001b[33;43m\"\u001b[39;49m\u001b[33;43mcpr_acceleration\u001b[39;49m\u001b[33;43m\"\u001b[39;49m\u001b[43m]\u001b[49m\u001b[43m,\u001b[49m\u001b[43m \u001b[49m\n\u001b[32m      4\u001b[39m \u001b[43m        \u001b[49m\u001b[43m[\u001b[49m\u001b[33;43m\"\u001b[39;49m\u001b[33;43mcapnography\u001b[39;49m\u001b[33;43m\"\u001b[39;49m\u001b[43m]\u001b[49m\u001b[43m,\u001b[49m\u001b[43m \u001b[49m\n\u001b[32m      5\u001b[39m \u001b[43m        \u001b[49m\u001b[43m[\u001b[49m\u001b[33;43m\"\u001b[39;49m\u001b[33;43mecg_pads\u001b[39;49m\u001b[33;43m\"\u001b[39;49m\u001b[43m]\u001b[49m\u001b[43m,\u001b[49m\u001b[43m \u001b[49m\n\u001b[32m      6\u001b[39m \u001b[43m        \u001b[49m\u001b[43m[\u001b[49m\u001b[43m]\u001b[49m\n\u001b[32m      7\u001b[39m \u001b[43m    \u001b[49m\u001b[43m]\u001b[49m\u001b[43m,\u001b[49m\n\u001b[32m      8\u001b[39m \u001b[43m    \u001b[49m\u001b[43mlabels\u001b[49m\u001b[43m \u001b[49m\u001b[43m=\u001b[49m\u001b[43m \u001b[49m\u001b[43m[\u001b[49m\n\u001b[32m      9\u001b[39m \u001b[43m        \u001b[49m\u001b[43m[\u001b[49m\u001b[33;43m\"\u001b[39;49m\u001b[33;43mROSC\u001b[39;49m\u001b[33;43m\"\u001b[39;49m\u001b[43m,\u001b[49m\u001b[43m \u001b[49m\u001b[33;43m\"\u001b[39;49m\u001b[33;43mcc_periods\u001b[39;49m\u001b[33;43m\"\u001b[39;49m\u001b[43m]\u001b[49m\u001b[43m,\u001b[49m\n\u001b[32m     10\u001b[39m \u001b[43m        \u001b[49m\u001b[43m[\u001b[49m\u001b[33;43m\"\u001b[39;49m\u001b[33;43metco2_from_capnography\u001b[39;49m\u001b[33;43m\"\u001b[39;49m\u001b[43m,\u001b[49m\u001b[43m \u001b[49m\u001b[33;43m\"\u001b[39;49m\u001b[33;43mROSC\u001b[39;49m\u001b[33;43m\"\u001b[39;49m\u001b[43m]\u001b[49m\u001b[43m,\u001b[49m\n\u001b[32m     11\u001b[39m \u001b[43m        \u001b[49m\u001b[43m[\u001b[49m\u001b[33;43m\"\u001b[39;49m\u001b[33;43mROSC\u001b[39;49m\u001b[33;43m\"\u001b[39;49m\u001b[43m]\u001b[49m\u001b[43m,\u001b[49m\n\u001b[32m     12\u001b[39m \u001b[43m        \u001b[49m\u001b[43m[\u001b[49m\u001b[33;43m\"\u001b[39;49m\u001b[33;43mROSC\u001b[39;49m\u001b[33;43m\"\u001b[39;49m\u001b[43m,\u001b[49m\u001b[43m \u001b[49m\u001b[33;43m\"\u001b[39;49m\u001b[33;43mrosc_probability\u001b[39;49m\u001b[33;43m\"\u001b[39;49m\u001b[43m]\u001b[49m\u001b[43m,\u001b[49m\n\u001b[32m     13\u001b[39m \u001b[43m    \u001b[49m\u001b[43m]\u001b[49m\u001b[43m,\u001b[49m\n\u001b[32m     14\u001b[39m \u001b[43m    \u001b[49m\u001b[43mchannel_overviews\u001b[49m\u001b[43m \u001b[49m\u001b[43m=\u001b[49m\u001b[43m \u001b[49m\u001b[43m[\u001b[49m\u001b[43m[\u001b[49m\u001b[33;43m\"\u001b[39;49m\u001b[33;43mcpr_acceleration\u001b[39;49m\u001b[33;43m\"\u001b[39;49m\u001b[43m]\u001b[49m\u001b[43m]\u001b[49m\u001b[43m,\u001b[49m\n\u001b[32m     15\u001b[39m \u001b[43m    \u001b[49m\u001b[43mtime_unit\u001b[49m\u001b[43m \u001b[49m\u001b[43m=\u001b[49m\u001b[43m \u001b[49m\u001b[33;43m\"\u001b[39;49m\u001b[33;43ms\u001b[39;49m\u001b[33;43m\"\u001b[39;49m\u001b[43m,\u001b[49m\n\u001b[32m     16\u001b[39m \u001b[43m    \u001b[49m\u001b[43msubplots_kwargs\u001b[49m\u001b[43m \u001b[49m\u001b[43m=\u001b[49m\u001b[43m \u001b[49m\u001b[43m{\u001b[49m\u001b[33;43m\"\u001b[39;49m\u001b[33;43mfigsize\u001b[39;49m\u001b[33;43m\"\u001b[39;49m\u001b[43m:\u001b[49m\u001b[43m \u001b[49m\u001b[43m(\u001b[49m\u001b[32;43m16.5\u001b[39;49m\u001b[43m,\u001b[49m\u001b[43m \u001b[49m\u001b[32;43m8\u001b[39;49m\u001b[43m)\u001b[49m\u001b[43m}\u001b[49m\u001b[43m,\u001b[49m\n\u001b[32m     17\u001b[39m \u001b[43m)\u001b[49m\n\u001b[32m     18\u001b[39m plot\n",
      "\u001b[36mFile \u001b[39m\u001b[32m~/vitabel/github/src/vitabel/vitals.py:1094\u001b[39m, in \u001b[36mVitals.plot_interactive\u001b[39m\u001b[34m(self, channels, labels, start, stop, time_unit, include_attached_labels, channel_overviews, limited_overview, subplots_kwargs)\u001b[39m\n\u001b[32m   1038\u001b[39m \u001b[38;5;28;01mdef\u001b[39;00m\u001b[38;5;250m \u001b[39m\u001b[34mplot_interactive\u001b[39m(\n\u001b[32m   1039\u001b[39m     \u001b[38;5;28mself\u001b[39m,\n\u001b[32m   1040\u001b[39m     channels: \u001b[38;5;28mlist\u001b[39m[\u001b[38;5;28mlist\u001b[39m[ChannelSpecification | \u001b[38;5;28mint\u001b[39m]] | \u001b[38;5;28;01mNone\u001b[39;00m = \u001b[38;5;28;01mNone\u001b[39;00m,\n\u001b[32m   (...)\u001b[39m\u001b[32m   1048\u001b[39m     subplots_kwargs: \u001b[38;5;28mdict\u001b[39m[\u001b[38;5;28mstr\u001b[39m, Any] | \u001b[38;5;28;01mNone\u001b[39;00m = \u001b[38;5;28;01mNone\u001b[39;00m,\n\u001b[32m   1049\u001b[39m ):\n\u001b[32m   1050\u001b[39m \u001b[38;5;250m    \u001b[39m\u001b[33;03m\"\"\"Plot the data in the collection using ipywidgets.\u001b[39;00m\n\u001b[32m   1051\u001b[39m \n\u001b[32m   1052\u001b[39m \u001b[33;03m    This allows to annotate the data with labels, and to modify\u001b[39;00m\n\u001b[32m   (...)\u001b[39m\u001b[32m   1092\u001b[39m \u001b[33;03m        Keyword arguments passed to ``matplotlib.pyplot.subplots``.\u001b[39;00m\n\u001b[32m   1093\u001b[39m \u001b[33;03m    \"\"\"\u001b[39;00m\n\u001b[32m-> \u001b[39m\u001b[32m1094\u001b[39m     \u001b[38;5;28;01mreturn\u001b[39;00m \u001b[38;5;28;43mself\u001b[39;49m\u001b[43m.\u001b[49m\u001b[43mdata\u001b[49m\u001b[43m.\u001b[49m\u001b[43mplot_interactive\u001b[49m\u001b[43m(\u001b[49m\n\u001b[32m   1095\u001b[39m \u001b[43m        \u001b[49m\u001b[43mchannels\u001b[49m\u001b[43m=\u001b[49m\u001b[43mchannels\u001b[49m\u001b[43m,\u001b[49m\n\u001b[32m   1096\u001b[39m \u001b[43m        \u001b[49m\u001b[43mlabels\u001b[49m\u001b[43m=\u001b[49m\u001b[43mlabels\u001b[49m\u001b[43m,\u001b[49m\n\u001b[32m   1097\u001b[39m \u001b[43m        \u001b[49m\u001b[43mstart\u001b[49m\u001b[43m=\u001b[49m\u001b[43mstart\u001b[49m\u001b[43m,\u001b[49m\n\u001b[32m   1098\u001b[39m \u001b[43m        \u001b[49m\u001b[43mstop\u001b[49m\u001b[43m=\u001b[49m\u001b[43mstop\u001b[49m\u001b[43m,\u001b[49m\n\u001b[32m   1099\u001b[39m \u001b[43m        \u001b[49m\u001b[43mtime_unit\u001b[49m\u001b[43m=\u001b[49m\u001b[43mtime_unit\u001b[49m\u001b[43m,\u001b[49m\n\u001b[32m   1100\u001b[39m \u001b[43m        \u001b[49m\u001b[43minclude_attached_labels\u001b[49m\u001b[43m=\u001b[49m\u001b[43minclude_attached_labels\u001b[49m\u001b[43m,\u001b[49m\n\u001b[32m   1101\u001b[39m \u001b[43m        \u001b[49m\u001b[43mchannel_overviews\u001b[49m\u001b[43m=\u001b[49m\u001b[43mchannel_overviews\u001b[49m\u001b[43m,\u001b[49m\n\u001b[32m   1102\u001b[39m \u001b[43m        \u001b[49m\u001b[43mlimited_overview\u001b[49m\u001b[43m=\u001b[49m\u001b[43mlimited_overview\u001b[49m\u001b[43m,\u001b[49m\n\u001b[32m   1103\u001b[39m \u001b[43m        \u001b[49m\u001b[43msubplots_kwargs\u001b[49m\u001b[43m=\u001b[49m\u001b[43msubplots_kwargs\u001b[49m\u001b[43m,\u001b[49m\n\u001b[32m   1104\u001b[39m \u001b[43m    \u001b[49m\u001b[43m)\u001b[49m\n",
      "\u001b[36mFile \u001b[39m\u001b[32m~/vitabel/github/src/vitabel/timeseries.py:3245\u001b[39m, in \u001b[36mTimeDataCollection.plot_interactive\u001b[39m\u001b[34m(self, channels, labels, start, stop, time_unit, include_attached_labels, channel_overviews, limited_overview, subplots_kwargs)\u001b[39m\n\u001b[32m   3242\u001b[39m         subax.grid(\u001b[38;5;28;01mFalse\u001b[39;00m)\n\u001b[32m   3244\u001b[39m repaint_overview_plot()\n\u001b[32m-> \u001b[39m\u001b[32m3245\u001b[39m \u001b[43mrepaint_plot\u001b[49m\u001b[43m(\u001b[49m\u001b[43mstart\u001b[49m\u001b[43m,\u001b[49m\u001b[43m \u001b[49m\u001b[43mstop\u001b[49m\u001b[43m)\u001b[49m\n\u001b[32m   3247\u001b[39m interactive_plot = widgets.AppLayout(\n\u001b[32m   3248\u001b[39m     header=tab, center=fig.canvas, pane_heights=[\u001b[32m1\u001b[39m, \u001b[32m4\u001b[39m, \u001b[32m0\u001b[39m]\n\u001b[32m   3249\u001b[39m )\n\u001b[32m   3251\u001b[39m \u001b[38;5;28;01mdef\u001b[39;00m\u001b[38;5;250m \u001b[39m\u001b[34mtab_listener\u001b[39m(event):\n",
      "\u001b[36mFile \u001b[39m\u001b[32m~/vitabel/github/src/vitabel/timeseries.py:3184\u001b[39m, in \u001b[36mTimeDataCollection.plot_interactive.<locals>.repaint_plot\u001b[39m\u001b[34m(start, stop)\u001b[39m\n\u001b[32m   3174\u001b[39m         channel.plot(\n\u001b[32m   3175\u001b[39m             plot_axes=subax,\n\u001b[32m   3176\u001b[39m             start=start,\n\u001b[32m   (...)\u001b[39m\u001b[32m   3180\u001b[39m             reference_time=reference_time,\n\u001b[32m   3181\u001b[39m         )\n\u001b[32m   3183\u001b[39m     \u001b[38;5;28;01mfor\u001b[39;00m label \u001b[38;5;129;01min\u001b[39;00m label_list:\n\u001b[32m-> \u001b[39m\u001b[32m3184\u001b[39m         \u001b[43mlabel\u001b[49m\u001b[43m.\u001b[49m\u001b[43mplot\u001b[49m\u001b[43m(\u001b[49m\n\u001b[32m   3185\u001b[39m \u001b[43m            \u001b[49m\u001b[43mplot_axes\u001b[49m\u001b[43m=\u001b[49m\u001b[43msubax\u001b[49m\u001b[43m,\u001b[49m\n\u001b[32m   3186\u001b[39m \u001b[43m            \u001b[49m\u001b[43mstart\u001b[49m\u001b[43m=\u001b[49m\u001b[43mstart\u001b[49m\u001b[43m,\u001b[49m\n\u001b[32m   3187\u001b[39m \u001b[43m            \u001b[49m\u001b[43mstop\u001b[49m\u001b[43m=\u001b[49m\u001b[43mstop\u001b[49m\u001b[43m,\u001b[49m\n\u001b[32m   3188\u001b[39m \u001b[43m            \u001b[49m\u001b[43mtime_unit\u001b[49m\u001b[43m=\u001b[49m\u001b[43mtime_unit\u001b[49m\u001b[43m,\u001b[49m\n\u001b[32m   3189\u001b[39m \u001b[43m            \u001b[49m\u001b[43mreference_time\u001b[49m\u001b[43m=\u001b[49m\u001b[43mreference_time\u001b[49m\u001b[43m,\u001b[49m\n\u001b[32m   3190\u001b[39m \u001b[43m        \u001b[49m\u001b[43m)\u001b[49m\n\u001b[32m   3191\u001b[39m     subax.legend(loc=\u001b[33m\"\u001b[39m\u001b[33mlower right\u001b[39m\u001b[33m\"\u001b[39m)\n\u001b[32m   3192\u001b[39m \u001b[38;5;28;01mfor\u001b[39;00m indicator \u001b[38;5;129;01min\u001b[39;00m overview_indicators:\n",
      "\u001b[36mFile \u001b[39m\u001b[32m~/vitabel/github/src/vitabel/timeseries.py:2010\u001b[39m, in \u001b[36mIntervalLabel.plot\u001b[39m\u001b[34m(self, plot_axes, plotstyle, start, stop, time_unit, reference_time, plot_type)\u001b[39m\n\u001b[32m   2008\u001b[39m \u001b[38;5;66;03m# Filter for props in kwargs which can be handled by axvspan / pathces.Rectangle\u001b[39;00m\n\u001b[32m   2009\u001b[39m rectangle_props = Rectangle((\u001b[32m0\u001b[39m, \u001b[32m0\u001b[39m), \u001b[32m1\u001b[39m, \u001b[32m1\u001b[39m).properties().keys()\n\u001b[32m-> \u001b[39m\u001b[32m2010\u001b[39m \u001b[43mfiltered_base_plotstyle\u001b[49m.setdefault(\u001b[33m\"\u001b[39m\u001b[33mlabel\u001b[39m\u001b[33m\"\u001b[39m, \u001b[38;5;28mself\u001b[39m.name)\n\u001b[32m   2011\u001b[39m filtered_base_plotstyle = {k: v \u001b[38;5;28;01mfor\u001b[39;00m k, v \u001b[38;5;129;01min\u001b[39;00m base_plotstyle.items() \u001b[38;5;28;01mif\u001b[39;00m k \u001b[38;5;129;01min\u001b[39;00m rectangle_props}\n\u001b[32m   2013\u001b[39m \u001b[38;5;28;01mfor\u001b[39;00m i, (xmin, xmax) \u001b[38;5;129;01min\u001b[39;00m \u001b[38;5;28menumerate\u001b[39m(box_time_index):\n",
      "\u001b[31mUnboundLocalError\u001b[39m: cannot access local variable 'filtered_base_plotstyle' where it is not associated with a value"
     ]
    }
   ],
   "source": [
    "plot = case.plot_interactive(\n",
    "    channels = [\n",
    "        [\"cpr_acceleration\"], \n",
    "        [\"capnography\"], \n",
    "        [\"ecg_pads\"], \n",
    "        []\n",
    "    ],\n",
    "    labels = [\n",
    "        [\"ROSC\", \"cc_periods\"],\n",
    "        [\"etco2_from_capnography\", \"ROSC\"],\n",
    "        [\"ROSC\"],\n",
    "        [\"ROSC\", \"rosc_probability\"],\n",
    "    ],\n",
    "    channel_overviews = [[\"cpr_acceleration\"]],\n",
    "    time_unit = \"s\",\n",
    "    subplots_kwargs = {\"figsize\": (16.5, 8)},\n",
    ")\n",
    "plot"
   ]
  },
  {
   "cell_type": "markdown",
   "id": "bd25a8e6-0b93-4d8c-a042-f733f010aeb4",
   "metadata": {},
   "source": [
    "<span style = \"font-size:18px\">Show the added `data` to the ROSC label</span>"
   ]
  },
  {
   "cell_type": "code",
   "execution_count": 9,
   "id": "b51bcde7-f24a-4f70-b8de-57547dd6cf5d",
   "metadata": {},
   "outputs": [
    {
     "data": {
      "text/plain": [
       "(TimedeltaIndex([], dtype='timedelta64[ns]', freq=None), None, None)"
      ]
     },
     "execution_count": 9,
     "metadata": {},
     "output_type": "execute_result"
    }
   ],
   "source": [
    "ROSC_label.get_data()"
   ]
  },
  {
   "cell_type": "markdown",
   "id": "e6e66a6d-a70d-40a3-835e-dfa7998c6522",
   "metadata": {},
   "source": [
    "## 5) Store Data\n",
    "<span style = \"font-size:18px\">The entire case can be sotred as a json file.</span>\n"
   ]
  },
  {
   "cell_type": "code",
   "execution_count": 10,
   "id": "5d90d861-61df-43cb-a898-042504ea1beb",
   "metadata": {},
   "outputs": [
    {
     "ename": "TypeError",
     "evalue": "Object of type datetime is not JSON serializable",
     "output_type": "error",
     "traceback": [
      "\u001b[31m---------------------------------------------------------------------------\u001b[39m",
      "\u001b[31mTypeError\u001b[39m                                 Traceback (most recent call last)",
      "\u001b[36mCell\u001b[39m\u001b[36m \u001b[39m\u001b[32mIn[10]\u001b[39m\u001b[32m, line 1\u001b[39m\n\u001b[32m----> \u001b[39m\u001b[32m1\u001b[39m \u001b[38;5;28;43;01mcase\u001b[39;49;00m\u001b[43m.\u001b[49m\u001b[43msave_data\u001b[49m\u001b[43m(\u001b[49m\u001b[33;43m\"\u001b[39;49m\u001b[33;43mcase_1.json\u001b[39;49m\u001b[33;43m\"\u001b[39;49m\u001b[43m)\u001b[49m\n",
      "\u001b[36mFile \u001b[39m\u001b[32m~/vitabel/github/src/vitabel/vitals.py:787\u001b[39m, in \u001b[36mVitals.save_data\u001b[39m\u001b[34m(self, path)\u001b[39m\n\u001b[32m    784\u001b[39m json_dict = {\u001b[33m\"\u001b[39m\u001b[33mmetadata\u001b[39m\u001b[33m\"\u001b[39m: \u001b[38;5;28mself\u001b[39m.metadata, \u001b[33m\"\u001b[39m\u001b[33mdata\u001b[39m\u001b[33m\"\u001b[39m: data_dict, \u001b[33m\"\u001b[39m\u001b[33mhash\u001b[39m\u001b[33m\"\u001b[39m: data_hash}\n\u001b[32m    786\u001b[39m \u001b[38;5;28;01mwith\u001b[39;00m \u001b[38;5;28mopen\u001b[39m(path, \u001b[33m\"\u001b[39m\u001b[33mw\u001b[39m\u001b[33m\"\u001b[39m) \u001b[38;5;28;01mas\u001b[39;00m fd:\n\u001b[32m--> \u001b[39m\u001b[32m787\u001b[39m     \u001b[43mjson\u001b[49m\u001b[43m.\u001b[49m\u001b[43mdump\u001b[49m\u001b[43m(\u001b[49m\u001b[43mjson_dict\u001b[49m\u001b[43m,\u001b[49m\u001b[43m \u001b[49m\u001b[43mfd\u001b[49m\u001b[43m,\u001b[49m\u001b[43m \u001b[49m\u001b[38;5;28;43mcls\u001b[39;49m\u001b[43m=\u001b[49m\u001b[43mNumpyEncoder\u001b[49m\u001b[43m)\u001b[49m\n",
      "\u001b[36mFile \u001b[39m\u001b[32m~/.miniconda/envs/spa-ga/lib/python3.13/json/__init__.py:179\u001b[39m, in \u001b[36mdump\u001b[39m\u001b[34m(obj, fp, skipkeys, ensure_ascii, check_circular, allow_nan, cls, indent, separators, default, sort_keys, **kw)\u001b[39m\n\u001b[32m    173\u001b[39m     iterable = \u001b[38;5;28mcls\u001b[39m(skipkeys=skipkeys, ensure_ascii=ensure_ascii,\n\u001b[32m    174\u001b[39m         check_circular=check_circular, allow_nan=allow_nan, indent=indent,\n\u001b[32m    175\u001b[39m         separators=separators,\n\u001b[32m    176\u001b[39m         default=default, sort_keys=sort_keys, **kw).iterencode(obj)\n\u001b[32m    177\u001b[39m \u001b[38;5;66;03m# could accelerate with writelines in some versions of Python, at\u001b[39;00m\n\u001b[32m    178\u001b[39m \u001b[38;5;66;03m# a debuggability cost\u001b[39;00m\n\u001b[32m--> \u001b[39m\u001b[32m179\u001b[39m \u001b[43m\u001b[49m\u001b[38;5;28;43;01mfor\u001b[39;49;00m\u001b[43m \u001b[49m\u001b[43mchunk\u001b[49m\u001b[43m \u001b[49m\u001b[38;5;129;43;01min\u001b[39;49;00m\u001b[43m \u001b[49m\u001b[43miterable\u001b[49m\u001b[43m:\u001b[49m\n\u001b[32m    180\u001b[39m \u001b[43m    \u001b[49m\u001b[43mfp\u001b[49m\u001b[43m.\u001b[49m\u001b[43mwrite\u001b[49m\u001b[43m(\u001b[49m\u001b[43mchunk\u001b[49m\u001b[43m)\u001b[49m\n",
      "\u001b[36mFile \u001b[39m\u001b[32m~/.miniconda/envs/spa-ga/lib/python3.13/json/encoder.py:432\u001b[39m, in \u001b[36m_make_iterencode.<locals>._iterencode\u001b[39m\u001b[34m(o, _current_indent_level)\u001b[39m\n\u001b[32m    430\u001b[39m     \u001b[38;5;28;01myield from\u001b[39;00m _iterencode_list(o, _current_indent_level)\n\u001b[32m    431\u001b[39m \u001b[38;5;28;01melif\u001b[39;00m \u001b[38;5;28misinstance\u001b[39m(o, \u001b[38;5;28mdict\u001b[39m):\n\u001b[32m--> \u001b[39m\u001b[32m432\u001b[39m     \u001b[38;5;28;01myield from\u001b[39;00m _iterencode_dict(o, _current_indent_level)\n\u001b[32m    433\u001b[39m \u001b[38;5;28;01melse\u001b[39;00m:\n\u001b[32m    434\u001b[39m     \u001b[38;5;28;01mif\u001b[39;00m markers \u001b[38;5;129;01mis\u001b[39;00m \u001b[38;5;129;01mnot\u001b[39;00m \u001b[38;5;28;01mNone\u001b[39;00m:\n",
      "\u001b[36mFile \u001b[39m\u001b[32m~/.miniconda/envs/spa-ga/lib/python3.13/json/encoder.py:406\u001b[39m, in \u001b[36m_make_iterencode.<locals>._iterencode_dict\u001b[39m\u001b[34m(dct, _current_indent_level)\u001b[39m\n\u001b[32m    404\u001b[39m         \u001b[38;5;28;01melse\u001b[39;00m:\n\u001b[32m    405\u001b[39m             chunks = _iterencode(value, _current_indent_level)\n\u001b[32m--> \u001b[39m\u001b[32m406\u001b[39m         \u001b[38;5;28;01myield from\u001b[39;00m chunks\n\u001b[32m    407\u001b[39m \u001b[38;5;28;01mif\u001b[39;00m newline_indent \u001b[38;5;129;01mis\u001b[39;00m \u001b[38;5;129;01mnot\u001b[39;00m \u001b[38;5;28;01mNone\u001b[39;00m:\n\u001b[32m    408\u001b[39m     _current_indent_level -= \u001b[32m1\u001b[39m\n",
      "\u001b[36mFile \u001b[39m\u001b[32m~/.miniconda/envs/spa-ga/lib/python3.13/json/encoder.py:406\u001b[39m, in \u001b[36m_make_iterencode.<locals>._iterencode_dict\u001b[39m\u001b[34m(dct, _current_indent_level)\u001b[39m\n\u001b[32m    404\u001b[39m         \u001b[38;5;28;01melse\u001b[39;00m:\n\u001b[32m    405\u001b[39m             chunks = _iterencode(value, _current_indent_level)\n\u001b[32m--> \u001b[39m\u001b[32m406\u001b[39m         \u001b[38;5;28;01myield from\u001b[39;00m chunks\n\u001b[32m    407\u001b[39m \u001b[38;5;28;01mif\u001b[39;00m newline_indent \u001b[38;5;129;01mis\u001b[39;00m \u001b[38;5;129;01mnot\u001b[39;00m \u001b[38;5;28;01mNone\u001b[39;00m:\n\u001b[32m    408\u001b[39m     _current_indent_level -= \u001b[32m1\u001b[39m\n",
      "\u001b[36mFile \u001b[39m\u001b[32m~/.miniconda/envs/spa-ga/lib/python3.13/json/encoder.py:326\u001b[39m, in \u001b[36m_make_iterencode.<locals>._iterencode_list\u001b[39m\u001b[34m(lst, _current_indent_level)\u001b[39m\n\u001b[32m    324\u001b[39m         \u001b[38;5;28;01melse\u001b[39;00m:\n\u001b[32m    325\u001b[39m             chunks = _iterencode(value, _current_indent_level)\n\u001b[32m--> \u001b[39m\u001b[32m326\u001b[39m         \u001b[38;5;28;01myield from\u001b[39;00m chunks\n\u001b[32m    327\u001b[39m \u001b[38;5;28;01mif\u001b[39;00m newline_indent \u001b[38;5;129;01mis\u001b[39;00m \u001b[38;5;129;01mnot\u001b[39;00m \u001b[38;5;28;01mNone\u001b[39;00m:\n\u001b[32m    328\u001b[39m     _current_indent_level -= \u001b[32m1\u001b[39m\n",
      "\u001b[36mFile \u001b[39m\u001b[32m~/.miniconda/envs/spa-ga/lib/python3.13/json/encoder.py:406\u001b[39m, in \u001b[36m_make_iterencode.<locals>._iterencode_dict\u001b[39m\u001b[34m(dct, _current_indent_level)\u001b[39m\n\u001b[32m    404\u001b[39m         \u001b[38;5;28;01melse\u001b[39;00m:\n\u001b[32m    405\u001b[39m             chunks = _iterencode(value, _current_indent_level)\n\u001b[32m--> \u001b[39m\u001b[32m406\u001b[39m         \u001b[38;5;28;01myield from\u001b[39;00m chunks\n\u001b[32m    407\u001b[39m \u001b[38;5;28;01mif\u001b[39;00m newline_indent \u001b[38;5;129;01mis\u001b[39;00m \u001b[38;5;129;01mnot\u001b[39;00m \u001b[38;5;28;01mNone\u001b[39;00m:\n\u001b[32m    408\u001b[39m     _current_indent_level -= \u001b[32m1\u001b[39m\n",
      "\u001b[36mFile \u001b[39m\u001b[32m~/.miniconda/envs/spa-ga/lib/python3.13/json/encoder.py:406\u001b[39m, in \u001b[36m_make_iterencode.<locals>._iterencode_dict\u001b[39m\u001b[34m(dct, _current_indent_level)\u001b[39m\n\u001b[32m    404\u001b[39m         \u001b[38;5;28;01melse\u001b[39;00m:\n\u001b[32m    405\u001b[39m             chunks = _iterencode(value, _current_indent_level)\n\u001b[32m--> \u001b[39m\u001b[32m406\u001b[39m         \u001b[38;5;28;01myield from\u001b[39;00m chunks\n\u001b[32m    407\u001b[39m \u001b[38;5;28;01mif\u001b[39;00m newline_indent \u001b[38;5;129;01mis\u001b[39;00m \u001b[38;5;129;01mnot\u001b[39;00m \u001b[38;5;28;01mNone\u001b[39;00m:\n\u001b[32m    408\u001b[39m     _current_indent_level -= \u001b[32m1\u001b[39m\n",
      "\u001b[36mFile \u001b[39m\u001b[32m~/.miniconda/envs/spa-ga/lib/python3.13/json/encoder.py:439\u001b[39m, in \u001b[36m_make_iterencode.<locals>._iterencode\u001b[39m\u001b[34m(o, _current_indent_level)\u001b[39m\n\u001b[32m    437\u001b[39m         \u001b[38;5;28;01mraise\u001b[39;00m \u001b[38;5;167;01mValueError\u001b[39;00m(\u001b[33m\"\u001b[39m\u001b[33mCircular reference detected\u001b[39m\u001b[33m\"\u001b[39m)\n\u001b[32m    438\u001b[39m     markers[markerid] = o\n\u001b[32m--> \u001b[39m\u001b[32m439\u001b[39m o = \u001b[43m_default\u001b[49m\u001b[43m(\u001b[49m\u001b[43mo\u001b[49m\u001b[43m)\u001b[49m\n\u001b[32m    440\u001b[39m \u001b[38;5;28;01myield from\u001b[39;00m _iterencode(o, _current_indent_level)\n\u001b[32m    441\u001b[39m \u001b[38;5;28;01mif\u001b[39;00m markers \u001b[38;5;129;01mis\u001b[39;00m \u001b[38;5;129;01mnot\u001b[39;00m \u001b[38;5;28;01mNone\u001b[39;00m:\n",
      "\u001b[36mFile \u001b[39m\u001b[32m~/vitabel/github/src/vitabel/utils/helpers.py:88\u001b[39m, in \u001b[36mNumpyEncoder.default\u001b[39m\u001b[34m(self, obj)\u001b[39m\n\u001b[32m     86\u001b[39m \u001b[38;5;28;01melif\u001b[39;00m \u001b[38;5;28misinstance\u001b[39m(obj, Path):\n\u001b[32m     87\u001b[39m     \u001b[38;5;28;01mreturn\u001b[39;00m \u001b[38;5;28mstr\u001b[39m(obj)\n\u001b[32m---> \u001b[39m\u001b[32m88\u001b[39m \u001b[38;5;28;01mreturn\u001b[39;00m \u001b[43mjson\u001b[49m\u001b[43m.\u001b[49m\u001b[43mJSONEncoder\u001b[49m\u001b[43m.\u001b[49m\u001b[43mdefault\u001b[49m\u001b[43m(\u001b[49m\u001b[38;5;28;43mself\u001b[39;49m\u001b[43m,\u001b[49m\u001b[43m \u001b[49m\u001b[43mobj\u001b[49m\u001b[43m)\u001b[49m\n",
      "\u001b[36mFile \u001b[39m\u001b[32m~/.miniconda/envs/spa-ga/lib/python3.13/json/encoder.py:180\u001b[39m, in \u001b[36mJSONEncoder.default\u001b[39m\u001b[34m(self, o)\u001b[39m\n\u001b[32m    161\u001b[39m \u001b[38;5;28;01mdef\u001b[39;00m\u001b[38;5;250m \u001b[39m\u001b[34mdefault\u001b[39m(\u001b[38;5;28mself\u001b[39m, o):\n\u001b[32m    162\u001b[39m \u001b[38;5;250m    \u001b[39m\u001b[33;03m\"\"\"Implement this method in a subclass such that it returns\u001b[39;00m\n\u001b[32m    163\u001b[39m \u001b[33;03m    a serializable object for ``o``, or calls the base implementation\u001b[39;00m\n\u001b[32m    164\u001b[39m \u001b[33;03m    (to raise a ``TypeError``).\u001b[39;00m\n\u001b[32m   (...)\u001b[39m\u001b[32m    178\u001b[39m \n\u001b[32m    179\u001b[39m \u001b[33;03m    \"\"\"\u001b[39;00m\n\u001b[32m--> \u001b[39m\u001b[32m180\u001b[39m     \u001b[38;5;28;01mraise\u001b[39;00m \u001b[38;5;167;01mTypeError\u001b[39;00m(\u001b[33mf\u001b[39m\u001b[33m'\u001b[39m\u001b[33mObject of type \u001b[39m\u001b[38;5;132;01m{\u001b[39;00mo.\u001b[34m__class__\u001b[39m.\u001b[34m__name__\u001b[39m\u001b[38;5;132;01m}\u001b[39;00m\u001b[33m \u001b[39m\u001b[33m'\u001b[39m\n\u001b[32m    181\u001b[39m                     \u001b[33mf\u001b[39m\u001b[33m'\u001b[39m\u001b[33mis not JSON serializable\u001b[39m\u001b[33m'\u001b[39m)\n",
      "\u001b[31mTypeError\u001b[39m: Object of type datetime is not JSON serializable"
     ]
    }
   ],
   "source": [
    "case.save_data(\"case_1.json\")"
   ]
  },
  {
   "cell_type": "markdown",
   "id": "31e06500-d464-49c9-8b54-6a6cc7496886",
   "metadata": {},
   "source": [
    "<span style = \"font-size:18px\">Data of the added label can also be stored as a csv spreadsheet.</span>"
   ]
  },
  {
   "cell_type": "code",
   "execution_count": null,
   "id": "659c2881-73c6-489c-8e9f-4bfdc7c4918f",
   "metadata": {},
   "outputs": [],
   "source": [
    "case.get_label(\"ROSC\").to_csv()\n",
    "pd.read_csv(\"ROSC.csv\", index_col = 0)"
   ]
  },
  {
   "cell_type": "markdown",
   "id": "fb98f6b6-cd20-47d7-8901-7213862de02e",
   "metadata": {},
   "source": [
    "<span style = \"font-size:18px\">Alternatively the added label can be returned as dictionary with all its features.</span>\n"
   ]
  },
  {
   "cell_type": "code",
   "execution_count": null,
   "id": "00fbafcb-e999-4ee0-b809-1c91fac38fc3",
   "metadata": {},
   "outputs": [],
   "source": [
    "case.get_label(\"ROSC\").to_dict()"
   ]
  }
 ],
 "metadata": {
  "kernelspec": {
   "display_name": "Python 3.13 (spa-ga)",
   "language": "python",
   "name": "spa-ga"
  },
  "language_info": {
   "codemirror_mode": {
    "name": "ipython",
    "version": 3
   },
   "file_extension": ".py",
   "mimetype": "text/x-python",
   "name": "python",
   "nbconvert_exporter": "python",
   "pygments_lexer": "ipython3",
   "version": "3.13.3"
  }
 },
 "nbformat": 4,
 "nbformat_minor": 5
}
